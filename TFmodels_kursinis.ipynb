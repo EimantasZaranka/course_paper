{
  "nbformat": 4,
  "nbformat_minor": 0,
  "metadata": {
    "colab": {
      "provenance": [],
      "collapsed_sections": [
        "LrUgn6KKf6aw",
        "-CGJDyHpf8Bu",
        "NJ0LgFn5gjt1",
        "feUubgw7hfFp",
        "hjrFsf0giQog"
      ]
    },
    "kernelspec": {
      "name": "python3",
      "display_name": "Python 3"
    },
    "language_info": {
      "name": "python"
    }
  },
  "cells": [
    {
      "cell_type": "code",
      "execution_count": null,
      "metadata": {
        "colab": {
          "base_uri": "https://localhost:8080/"
        },
        "id": "h0OlZ7xVPcgS",
        "outputId": "2d07bfe2-addc-4ac9-d4ce-01df4677e7a9"
      },
      "outputs": [
        {
          "output_type": "stream",
          "name": "stdout",
          "text": [
            "Mounted at /content/drive\n"
          ]
        }
      ],
      "source": [
        "from google.colab import drive\n",
        "drive.mount('/content/drive')\n",
        "\n",
        "path = '/content/drive/MyDrive/Univerui/Kursinis/'"
      ]
    },
    {
      "cell_type": "markdown",
      "source": [
        "# Helper functions"
      ],
      "metadata": {
        "id": "P6tNZYeJPi8K"
      }
    },
    {
      "cell_type": "code",
      "source": [
        "from sklearn.metrics import accuracy_score, precision_recall_fscore_support\n",
        "def calculate_results(y_true, y_pred):\n",
        "  model_accuracy = accuracy_score(y_true, y_pred) * 100\n",
        "  \n",
        "  model_precision, model_recall, model_f1, _ = precision_recall_fscore_support(y_true, y_pred, average=\"weighted\")\n",
        "  model_results = {\"accuracy\": model_accuracy,\n",
        "                  \"precision\": model_precision,\n",
        "                  \"recall\": model_recall,\n",
        "                  \"f1\": model_f1}\n",
        "  return model_results"
      ],
      "metadata": {
        "id": "F3GwiJd-PeZi"
      },
      "execution_count": null,
      "outputs": []
    },
    {
      "cell_type": "code",
      "source": [
        "from sklearn.metrics import confusion_matrix\n",
        "import matplotlib.pyplot as plt\n",
        "import seaborn as sns\n",
        "\n",
        "sns.light_palette(\"seagreen\", as_cmap=True)\n",
        "\n",
        "def plot_confusion_matrix(y_true, y_pred):\n",
        "  cm = confusion_matrix(y_true, y_pred)\n",
        "  labels = ['Benign', 'Malware']\n",
        "\n",
        "  plt.figure(1, figsize=(9,6))\n",
        "  axis = sns.heatmap(cm, annot=True, cbar=False, cmap='Greens', fmt='d')\n",
        "\n",
        "  axis.set_xticklabels(labels)\n",
        "  axis.set_yticklabels(labels)\n",
        "\n",
        "  axis.set(ylabel='Tikros reikšmės', xlabel='Prognozuotos reikšmės')\n",
        "\n",
        "  plt.show()"
      ],
      "metadata": {
        "id": "MQwE7N7QPn3o"
      },
      "execution_count": null,
      "outputs": []
    },
    {
      "cell_type": "code",
      "source": [
        "def plot_loss_curves(history):\n",
        "  loss = history.history['loss']\n",
        "  val_loss = history.history['val_loss']\n",
        "\n",
        "  accuracy = history.history['accuracy']\n",
        "  val_accuracy = history.history['val_accuracy']\n",
        "\n",
        "  epochs = range(len(history.history['loss']))\n",
        "\n",
        "  # Plot loss\n",
        "  plt.plot(epochs, loss, label='training_loss')\n",
        "  plt.plot(epochs, val_loss, label='val_loss')\n",
        "  plt.title('Nuostoliai')\n",
        "  plt.xlabel('Epochos')\n",
        "  plt.legend()\n",
        "\n",
        "  # Plot accuracy\n",
        "  plt.figure()\n",
        "  plt.plot(epochs, accuracy, label='training_accuracy')\n",
        "  plt.plot(epochs, val_accuracy, label='val_accuracy')\n",
        "  plt.title('Teisingumas')\n",
        "  plt.xlabel('Epochos')\n",
        "  plt.legend();"
      ],
      "metadata": {
        "id": "f6xWBLUtP3XD"
      },
      "execution_count": null,
      "outputs": []
    },
    {
      "cell_type": "markdown",
      "source": [
        "# Loading data"
      ],
      "metadata": {
        "id": "y1DqyKWVP8bz"
      }
    },
    {
      "cell_type": "code",
      "source": [
        "import pandas as pd\n",
        "train_data = pd.read_csv(path+'train_dataset.csv')\n",
        "valid_data = pd.read_csv(path+'valid_dataset.csv')\n",
        "test_data = pd.read_csv(path+'test_dataset.csv')\n",
        "\n",
        "train_data.head()"
      ],
      "metadata": {
        "colab": {
          "base_uri": "https://localhost:8080/",
          "height": 300
        },
        "id": "dnqdrehPPpxg",
        "outputId": "4c24fdf4-5bc8-458a-d351-54ab75fefff1"
      },
      "execution_count": null,
      "outputs": [
        {
          "output_type": "execute_result",
          "data": {
            "text/plain": [
              "   pslist.nproc  pslist.nppid  pslist.avg_threads  pslist.avg_handlers  \\\n",
              "0     -1.000000          0.00           -0.489278            -0.525639   \n",
              "1     -1.333333          0.00           -0.409560            -0.859858   \n",
              "2      1.000000         -0.75            0.491920             0.519117   \n",
              "3      1.666667          0.75           -0.157661            -0.547790   \n",
              "4      3.000000          0.50            0.277606             0.330270   \n",
              "\n",
              "   dlllist.ndlls  dlllist.avg_dlls_per_proc  handles.nhandles  \\\n",
              "0      -0.572505                  -0.480974         -0.447922   \n",
              "1      -0.838041                  -0.740434         -0.765124   \n",
              "2       0.783427                   0.563137          0.853235   \n",
              "3      -0.062147                  -0.542530         -0.057075   \n",
              "4       1.250471                   0.393810          1.172804   \n",
              "\n",
              "   handles.avg_handles_per_proc  handles.nfile  handles.nevent  ...  \\\n",
              "0                     -0.563055      -0.451613       -0.348355  ...   \n",
              "1                     -0.835619      -0.559908       -0.767525  ...   \n",
              "2                      0.475160       0.670507        1.094421  ...   \n",
              "3                     -0.542748      -0.375576        0.030043  ...   \n",
              "4                      0.287495       0.937788        1.159514  ...   \n",
              "\n",
              "   svcscan.nservices  svcscan.kernel_drivers  svcscan.fs_drivers  \\\n",
              "0          -0.500000                     0.0                 0.0   \n",
              "1          -1.166667                    -1.0                 0.0   \n",
              "2           0.500000                     1.0                 0.0   \n",
              "3          -0.500000                     0.0                 0.0   \n",
              "4           0.000000                     1.0                 0.0   \n",
              "\n",
              "   svcscan.process_services  svcscan.shared_process_services  svcscan.nactive  \\\n",
              "0                  0.000000                             -0.5             -1.5   \n",
              "1                 -0.333333                             -1.5             -4.0   \n",
              "2                  1.000000                              0.5              1.5   \n",
              "3                  0.000000                             -0.5              0.5   \n",
              "4                  0.000000                              0.5              2.0   \n",
              "\n",
              "   callbacks.ncallbacks  callbacks.nanonymous  callbacks.ngeneric  Class  \n",
              "0                   1.0                   0.0                 0.0      1  \n",
              "1                   1.0                   0.0                 0.0      1  \n",
              "2                   1.0                   0.0                 0.0      0  \n",
              "3                 -32.0                   0.0                 0.0      1  \n",
              "4                   0.0                   0.0                 0.0      0  \n",
              "\n",
              "[5 rows x 53 columns]"
            ],
            "text/html": [
              "\n",
              "  <div id=\"df-7996bab5-226e-4ebc-b28d-9af9477b572e\">\n",
              "    <div class=\"colab-df-container\">\n",
              "      <div>\n",
              "<style scoped>\n",
              "    .dataframe tbody tr th:only-of-type {\n",
              "        vertical-align: middle;\n",
              "    }\n",
              "\n",
              "    .dataframe tbody tr th {\n",
              "        vertical-align: top;\n",
              "    }\n",
              "\n",
              "    .dataframe thead th {\n",
              "        text-align: right;\n",
              "    }\n",
              "</style>\n",
              "<table border=\"1\" class=\"dataframe\">\n",
              "  <thead>\n",
              "    <tr style=\"text-align: right;\">\n",
              "      <th></th>\n",
              "      <th>pslist.nproc</th>\n",
              "      <th>pslist.nppid</th>\n",
              "      <th>pslist.avg_threads</th>\n",
              "      <th>pslist.avg_handlers</th>\n",
              "      <th>dlllist.ndlls</th>\n",
              "      <th>dlllist.avg_dlls_per_proc</th>\n",
              "      <th>handles.nhandles</th>\n",
              "      <th>handles.avg_handles_per_proc</th>\n",
              "      <th>handles.nfile</th>\n",
              "      <th>handles.nevent</th>\n",
              "      <th>...</th>\n",
              "      <th>svcscan.nservices</th>\n",
              "      <th>svcscan.kernel_drivers</th>\n",
              "      <th>svcscan.fs_drivers</th>\n",
              "      <th>svcscan.process_services</th>\n",
              "      <th>svcscan.shared_process_services</th>\n",
              "      <th>svcscan.nactive</th>\n",
              "      <th>callbacks.ncallbacks</th>\n",
              "      <th>callbacks.nanonymous</th>\n",
              "      <th>callbacks.ngeneric</th>\n",
              "      <th>Class</th>\n",
              "    </tr>\n",
              "  </thead>\n",
              "  <tbody>\n",
              "    <tr>\n",
              "      <th>0</th>\n",
              "      <td>-1.000000</td>\n",
              "      <td>0.00</td>\n",
              "      <td>-0.489278</td>\n",
              "      <td>-0.525639</td>\n",
              "      <td>-0.572505</td>\n",
              "      <td>-0.480974</td>\n",
              "      <td>-0.447922</td>\n",
              "      <td>-0.563055</td>\n",
              "      <td>-0.451613</td>\n",
              "      <td>-0.348355</td>\n",
              "      <td>...</td>\n",
              "      <td>-0.500000</td>\n",
              "      <td>0.0</td>\n",
              "      <td>0.0</td>\n",
              "      <td>0.000000</td>\n",
              "      <td>-0.5</td>\n",
              "      <td>-1.5</td>\n",
              "      <td>1.0</td>\n",
              "      <td>0.0</td>\n",
              "      <td>0.0</td>\n",
              "      <td>1</td>\n",
              "    </tr>\n",
              "    <tr>\n",
              "      <th>1</th>\n",
              "      <td>-1.333333</td>\n",
              "      <td>0.00</td>\n",
              "      <td>-0.409560</td>\n",
              "      <td>-0.859858</td>\n",
              "      <td>-0.838041</td>\n",
              "      <td>-0.740434</td>\n",
              "      <td>-0.765124</td>\n",
              "      <td>-0.835619</td>\n",
              "      <td>-0.559908</td>\n",
              "      <td>-0.767525</td>\n",
              "      <td>...</td>\n",
              "      <td>-1.166667</td>\n",
              "      <td>-1.0</td>\n",
              "      <td>0.0</td>\n",
              "      <td>-0.333333</td>\n",
              "      <td>-1.5</td>\n",
              "      <td>-4.0</td>\n",
              "      <td>1.0</td>\n",
              "      <td>0.0</td>\n",
              "      <td>0.0</td>\n",
              "      <td>1</td>\n",
              "    </tr>\n",
              "    <tr>\n",
              "      <th>2</th>\n",
              "      <td>1.000000</td>\n",
              "      <td>-0.75</td>\n",
              "      <td>0.491920</td>\n",
              "      <td>0.519117</td>\n",
              "      <td>0.783427</td>\n",
              "      <td>0.563137</td>\n",
              "      <td>0.853235</td>\n",
              "      <td>0.475160</td>\n",
              "      <td>0.670507</td>\n",
              "      <td>1.094421</td>\n",
              "      <td>...</td>\n",
              "      <td>0.500000</td>\n",
              "      <td>1.0</td>\n",
              "      <td>0.0</td>\n",
              "      <td>1.000000</td>\n",
              "      <td>0.5</td>\n",
              "      <td>1.5</td>\n",
              "      <td>1.0</td>\n",
              "      <td>0.0</td>\n",
              "      <td>0.0</td>\n",
              "      <td>0</td>\n",
              "    </tr>\n",
              "    <tr>\n",
              "      <th>3</th>\n",
              "      <td>1.666667</td>\n",
              "      <td>0.75</td>\n",
              "      <td>-0.157661</td>\n",
              "      <td>-0.547790</td>\n",
              "      <td>-0.062147</td>\n",
              "      <td>-0.542530</td>\n",
              "      <td>-0.057075</td>\n",
              "      <td>-0.542748</td>\n",
              "      <td>-0.375576</td>\n",
              "      <td>0.030043</td>\n",
              "      <td>...</td>\n",
              "      <td>-0.500000</td>\n",
              "      <td>0.0</td>\n",
              "      <td>0.0</td>\n",
              "      <td>0.000000</td>\n",
              "      <td>-0.5</td>\n",
              "      <td>0.5</td>\n",
              "      <td>-32.0</td>\n",
              "      <td>0.0</td>\n",
              "      <td>0.0</td>\n",
              "      <td>1</td>\n",
              "    </tr>\n",
              "    <tr>\n",
              "      <th>4</th>\n",
              "      <td>3.000000</td>\n",
              "      <td>0.50</td>\n",
              "      <td>0.277606</td>\n",
              "      <td>0.330270</td>\n",
              "      <td>1.250471</td>\n",
              "      <td>0.393810</td>\n",
              "      <td>1.172804</td>\n",
              "      <td>0.287495</td>\n",
              "      <td>0.937788</td>\n",
              "      <td>1.159514</td>\n",
              "      <td>...</td>\n",
              "      <td>0.000000</td>\n",
              "      <td>1.0</td>\n",
              "      <td>0.0</td>\n",
              "      <td>0.000000</td>\n",
              "      <td>0.5</td>\n",
              "      <td>2.0</td>\n",
              "      <td>0.0</td>\n",
              "      <td>0.0</td>\n",
              "      <td>0.0</td>\n",
              "      <td>0</td>\n",
              "    </tr>\n",
              "  </tbody>\n",
              "</table>\n",
              "<p>5 rows × 53 columns</p>\n",
              "</div>\n",
              "      <button class=\"colab-df-convert\" onclick=\"convertToInteractive('df-7996bab5-226e-4ebc-b28d-9af9477b572e')\"\n",
              "              title=\"Convert this dataframe to an interactive table.\"\n",
              "              style=\"display:none;\">\n",
              "        \n",
              "  <svg xmlns=\"http://www.w3.org/2000/svg\" height=\"24px\"viewBox=\"0 0 24 24\"\n",
              "       width=\"24px\">\n",
              "    <path d=\"M0 0h24v24H0V0z\" fill=\"none\"/>\n",
              "    <path d=\"M18.56 5.44l.94 2.06.94-2.06 2.06-.94-2.06-.94-.94-2.06-.94 2.06-2.06.94zm-11 1L8.5 8.5l.94-2.06 2.06-.94-2.06-.94L8.5 2.5l-.94 2.06-2.06.94zm10 10l.94 2.06.94-2.06 2.06-.94-2.06-.94-.94-2.06-.94 2.06-2.06.94z\"/><path d=\"M17.41 7.96l-1.37-1.37c-.4-.4-.92-.59-1.43-.59-.52 0-1.04.2-1.43.59L10.3 9.45l-7.72 7.72c-.78.78-.78 2.05 0 2.83L4 21.41c.39.39.9.59 1.41.59.51 0 1.02-.2 1.41-.59l7.78-7.78 2.81-2.81c.8-.78.8-2.07 0-2.86zM5.41 20L4 18.59l7.72-7.72 1.47 1.35L5.41 20z\"/>\n",
              "  </svg>\n",
              "      </button>\n",
              "      \n",
              "  <style>\n",
              "    .colab-df-container {\n",
              "      display:flex;\n",
              "      flex-wrap:wrap;\n",
              "      gap: 12px;\n",
              "    }\n",
              "\n",
              "    .colab-df-convert {\n",
              "      background-color: #E8F0FE;\n",
              "      border: none;\n",
              "      border-radius: 50%;\n",
              "      cursor: pointer;\n",
              "      display: none;\n",
              "      fill: #1967D2;\n",
              "      height: 32px;\n",
              "      padding: 0 0 0 0;\n",
              "      width: 32px;\n",
              "    }\n",
              "\n",
              "    .colab-df-convert:hover {\n",
              "      background-color: #E2EBFA;\n",
              "      box-shadow: 0px 1px 2px rgba(60, 64, 67, 0.3), 0px 1px 3px 1px rgba(60, 64, 67, 0.15);\n",
              "      fill: #174EA6;\n",
              "    }\n",
              "\n",
              "    [theme=dark] .colab-df-convert {\n",
              "      background-color: #3B4455;\n",
              "      fill: #D2E3FC;\n",
              "    }\n",
              "\n",
              "    [theme=dark] .colab-df-convert:hover {\n",
              "      background-color: #434B5C;\n",
              "      box-shadow: 0px 1px 3px 1px rgba(0, 0, 0, 0.15);\n",
              "      filter: drop-shadow(0px 1px 2px rgba(0, 0, 0, 0.3));\n",
              "      fill: #FFFFFF;\n",
              "    }\n",
              "  </style>\n",
              "\n",
              "      <script>\n",
              "        const buttonEl =\n",
              "          document.querySelector('#df-7996bab5-226e-4ebc-b28d-9af9477b572e button.colab-df-convert');\n",
              "        buttonEl.style.display =\n",
              "          google.colab.kernel.accessAllowed ? 'block' : 'none';\n",
              "\n",
              "        async function convertToInteractive(key) {\n",
              "          const element = document.querySelector('#df-7996bab5-226e-4ebc-b28d-9af9477b572e');\n",
              "          const dataTable =\n",
              "            await google.colab.kernel.invokeFunction('convertToInteractive',\n",
              "                                                     [key], {});\n",
              "          if (!dataTable) return;\n",
              "\n",
              "          const docLinkHtml = 'Like what you see? Visit the ' +\n",
              "            '<a target=\"_blank\" href=https://colab.research.google.com/notebooks/data_table.ipynb>data table notebook</a>'\n",
              "            + ' to learn more about interactive tables.';\n",
              "          element.innerHTML = '';\n",
              "          dataTable['output_type'] = 'display_data';\n",
              "          await google.colab.output.renderOutput(dataTable, element);\n",
              "          const docLink = document.createElement('div');\n",
              "          docLink.innerHTML = docLinkHtml;\n",
              "          element.appendChild(docLink);\n",
              "        }\n",
              "      </script>\n",
              "    </div>\n",
              "  </div>\n",
              "  "
            ]
          },
          "metadata": {},
          "execution_count": 5
        }
      ]
    },
    {
      "cell_type": "code",
      "source": [
        "X_train = train_data.drop('Class', axis=1)\n",
        "y_train = train_data['Class']\n",
        "\n",
        "X_test = test_data.drop('Class', axis=1)\n",
        "y_test = test_data['Class']\n",
        "\n",
        "X_valid = valid_data.drop('Class', axis=1)\n",
        "y_valid = valid_data['Class']\n",
        "\n",
        "len(X_train), len(y_train), len(X_test), len(y_test), len(X_valid), len(y_valid)"
      ],
      "metadata": {
        "colab": {
          "base_uri": "https://localhost:8080/"
        },
        "id": "DjTmZS7ZP_VG",
        "outputId": "04bc5bce-57c8-4885-de49-c12055847146"
      },
      "execution_count": null,
      "outputs": [
        {
          "output_type": "execute_result",
          "data": {
            "text/plain": [
              "(40940, 40940, 8790, 8790, 8866, 8866)"
            ]
          },
          "metadata": {},
          "execution_count": 6
        }
      ]
    },
    {
      "cell_type": "code",
      "source": [
        "X_train = X_train.to_numpy()\n",
        "X_test = X_test.to_numpy()\n",
        "X_valid = X_valid.to_numpy()"
      ],
      "metadata": {
        "id": "AFRJKQtIRQhV"
      },
      "execution_count": null,
      "outputs": []
    },
    {
      "cell_type": "markdown",
      "source": [
        "# Modeling"
      ],
      "metadata": {
        "id": "QKfg73MWQHnX"
      }
    },
    {
      "cell_type": "code",
      "source": [
        "import tensorflow as tf\n",
        "from tensorflow.keras.layers import Dense, SimpleRNN, BatchNormalization, Input\n",
        "from tensorflow.keras.optimizers import Adam\n",
        "from tensorflow.keras import regularizers"
      ],
      "metadata": {
        "id": "LPYGAIj0QXwG"
      },
      "execution_count": null,
      "outputs": []
    },
    {
      "cell_type": "code",
      "source": [
        "tf.random.set_seed(42)"
      ],
      "metadata": {
        "id": "k1k8RnGNT7tF"
      },
      "execution_count": null,
      "outputs": []
    },
    {
      "cell_type": "markdown",
      "source": [
        "## MLP"
      ],
      "metadata": {
        "id": "lCiM6GiZQPB9"
      }
    },
    {
      "cell_type": "code",
      "source": [
        "mlp_model_1 = tf.keras.Sequential([\n",
        "    Dense(125, input_shape=X_train[0].shape, activation='relu'),\n",
        "    Dense(1, activation='sigmoid')\n",
        "])\n",
        "\n",
        "mlp_model_1.compile(loss='binary_crossentropy',\n",
        "                    optimizer=Adam(),\n",
        "                    metrics=['accuracy'])\n",
        "\n",
        "mlp_history = mlp_model_1.fit(X_train, y_train,\n",
        "                                      epochs=10,\n",
        "                                      batch_size=32,\n",
        "                                      validation_data=(X_valid, y_valid))"
      ],
      "metadata": {
        "colab": {
          "base_uri": "https://localhost:8080/"
        },
        "id": "6S7EGIzsQGL_",
        "outputId": "4286ef4e-cbf2-42c3-d685-cae5c87f656b"
      },
      "execution_count": null,
      "outputs": [
        {
          "output_type": "stream",
          "name": "stdout",
          "text": [
            "Epoch 1/10\n",
            "1280/1280 [==============================] - 6s 4ms/step - loss: 0.0199 - accuracy: 0.9945 - val_loss: 0.0057 - val_accuracy: 0.9989\n",
            "Epoch 2/10\n",
            "1280/1280 [==============================] - 3s 3ms/step - loss: 0.0034 - accuracy: 0.9988 - val_loss: 0.0017 - val_accuracy: 0.9994\n",
            "Epoch 3/10\n",
            "1280/1280 [==============================] - 3s 2ms/step - loss: 0.0019 - accuracy: 0.9993 - val_loss: 8.6830e-04 - val_accuracy: 0.9997\n",
            "Epoch 4/10\n",
            "1280/1280 [==============================] - 6s 5ms/step - loss: 0.0014 - accuracy: 0.9995 - val_loss: 3.8334e-04 - val_accuracy: 0.9999\n",
            "Epoch 5/10\n",
            "1280/1280 [==============================] - 5s 4ms/step - loss: 9.0594e-04 - accuracy: 0.9997 - val_loss: 3.9769e-04 - val_accuracy: 0.9999\n",
            "Epoch 6/10\n",
            "1280/1280 [==============================] - 5s 4ms/step - loss: 5.0587e-04 - accuracy: 0.9999 - val_loss: 1.7005e-04 - val_accuracy: 1.0000\n",
            "Epoch 7/10\n",
            "1280/1280 [==============================] - 3s 3ms/step - loss: 4.4887e-04 - accuracy: 0.9999 - val_loss: 1.1948e-04 - val_accuracy: 1.0000\n",
            "Epoch 8/10\n",
            "1280/1280 [==============================] - 6s 5ms/step - loss: 0.0012 - accuracy: 0.9999 - val_loss: 2.9430e-04 - val_accuracy: 0.9999\n",
            "Epoch 9/10\n",
            "1280/1280 [==============================] - 6s 5ms/step - loss: 2.4851e-04 - accuracy: 1.0000 - val_loss: 6.2293e-05 - val_accuracy: 1.0000\n",
            "Epoch 10/10\n",
            "1280/1280 [==============================] - 6s 5ms/step - loss: 1.6091e-04 - accuracy: 1.0000 - val_loss: 8.6429e-05 - val_accuracy: 1.0000\n"
          ]
        }
      ]
    },
    {
      "cell_type": "code",
      "source": [
        "plot_loss_curves(mlp_history)"
      ],
      "metadata": {
        "colab": {
          "base_uri": "https://localhost:8080/",
          "height": 573
        },
        "id": "VPtwz8onRGb-",
        "outputId": "3c64dbf9-1ca7-416c-919b-4b962e4b9817"
      },
      "execution_count": null,
      "outputs": [
        {
          "output_type": "display_data",
          "data": {
            "text/plain": [
              "<Figure size 432x288 with 1 Axes>"
            ],
            "image/png": "[encoded data removed]"
          },
          "metadata": {
            "needs_background": "light"
          }
        },
        {
          "output_type": "display_data",
          "data": {
            "text/plain": [
              "<Figure size 432x288 with 1 Axes>"
            ],
            "image/png": "[encoded data removed]"
          },
          "metadata": {
            "needs_background": "light"
          }
        }
      ]
    },
    {
      "cell_type": "code",
      "source": [
        "mlp_pred = mlp_model_1.predict(X_test)\n",
        "calculate_results(y_test, tf.round(mlp_pred))"
      ],
      "metadata": {
        "colab": {
          "base_uri": "https://localhost:8080/"
        },
        "id": "P7e7OThDSKvp",
        "outputId": "84924d8a-3fd5-43ae-aa76-d730b440885f"
      },
      "execution_count": null,
      "outputs": [
        {
          "output_type": "stream",
          "name": "stdout",
          "text": [
            "275/275 [==============================] - 0s 1ms/step\n"
          ]
        },
        {
          "output_type": "execute_result",
          "data": {
            "text/plain": [
              "{'accuracy': 100.0, 'precision': 1.0, 'recall': 1.0, 'f1': 1.0}"
            ]
          },
          "metadata": {},
          "execution_count": 26
        }
      ]
    },
    {
      "cell_type": "code",
      "source": [
        "plot_confusion_matrix(y_test, tf.round(mlp_pred))"
      ],
      "metadata": {
        "colab": {
          "base_uri": "https://localhost:8080/",
          "height": 389
        },
        "id": "7Sdk74fjUf98",
        "outputId": "45287783-1990-4bcc-e7f2-014de9d48e51"
      },
      "execution_count": null,
      "outputs": [
        {
          "output_type": "display_data",
          "data": {
            "text/plain": [
              "<Figure size 648x432 with 1 Axes>"
            ],
            "image/png": "[encoded data removed]"
          },
          "metadata": {
            "needs_background": "light"
          }
        }
      ]
    },
    {
      "cell_type": "code",
      "source": [
        "mlp_model_1.save('/content/drive/MyDrive/Univerui/Kursinis/models/mlp_model.h5')"
      ],
      "metadata": {
        "id": "--3v4HOMnN6f"
      },
      "execution_count": null,
      "outputs": []
    },
    {
      "cell_type": "markdown",
      "source": [
        "## RNN"
      ],
      "metadata": {
        "id": "WBz70IqcVCmt"
      }
    },
    {
      "cell_type": "code",
      "source": [
        "X_train[0].shape"
      ],
      "metadata": {
        "colab": {
          "base_uri": "https://localhost:8080/"
        },
        "id": "BVu0t9_qZjhE",
        "outputId": "18678655-d5e1-44ad-b6a4-abd32d848de2"
      },
      "execution_count": null,
      "outputs": [
        {
          "output_type": "execute_result",
          "data": {
            "text/plain": [
              "(52,)"
            ]
          },
          "metadata": {},
          "execution_count": 36
        }
      ]
    },
    {
      "cell_type": "code",
      "source": [
        "rnn_model = tf.keras.Sequential([\n",
        "    SimpleRNN(64, input_dim=1, input_length=X_train[0].shape[0]),\n",
        "    Dense(1, activation='sigmoid')\n",
        "])\n",
        "\n",
        "rnn_model.compile(loss='binary_crossentropy',\n",
        "                  optimizer=Adam(),\n",
        "                  metrics=['accuracy'])\n",
        "\n",
        "rnn_history = rnn_model.fit(X_train, y_train,\n",
        "                            epochs=10,\n",
        "                            batch_size=32,\n",
        "                            validation_data=(X_valid, y_valid))"
      ],
      "metadata": {
        "colab": {
          "base_uri": "https://localhost:8080/"
        },
        "id": "RmxpqScKUkbX",
        "outputId": "ee781a10-ae1b-4ef1-f682-bbde0b447f2d"
      },
      "execution_count": null,
      "outputs": [
        {
          "output_type": "stream",
          "name": "stdout",
          "text": [
            "Epoch 1/10\n",
            "1280/1280 [==============================] - 17s 12ms/step - loss: 0.0206 - accuracy: 0.9961 - val_loss: 0.0088 - val_accuracy: 0.9981\n",
            "Epoch 2/10\n",
            "1280/1280 [==============================] - 16s 12ms/step - loss: 0.0096 - accuracy: 0.9981 - val_loss: 0.0064 - val_accuracy: 0.9986\n",
            "Epoch 3/10\n",
            "1280/1280 [==============================] - 16s 12ms/step - loss: 0.0072 - accuracy: 0.9986 - val_loss: 0.0066 - val_accuracy: 0.9988\n",
            "Epoch 4/10\n",
            "1280/1280 [==============================] - 16s 12ms/step - loss: 0.0054 - accuracy: 0.9989 - val_loss: 0.0036 - val_accuracy: 0.9990\n",
            "Epoch 5/10\n",
            "1280/1280 [==============================] - 16s 12ms/step - loss: 0.0036 - accuracy: 0.9992 - val_loss: 0.0029 - val_accuracy: 0.9993\n",
            "Epoch 6/10\n",
            "1280/1280 [==============================] - 20s 16ms/step - loss: 0.0059 - accuracy: 0.9984 - val_loss: 0.0139 - val_accuracy: 0.9976\n",
            "Epoch 7/10\n",
            "1280/1280 [==============================] - 18s 14ms/step - loss: 0.0078 - accuracy: 0.9986 - val_loss: 0.0066 - val_accuracy: 0.9991\n",
            "Epoch 8/10\n",
            "1280/1280 [==============================] - 16s 12ms/step - loss: 0.0044 - accuracy: 0.9991 - val_loss: 0.0054 - val_accuracy: 0.9992\n",
            "Epoch 9/10\n",
            "1280/1280 [==============================] - 16s 12ms/step - loss: 0.0044 - accuracy: 0.9992 - val_loss: 0.0051 - val_accuracy: 0.9989\n",
            "Epoch 10/10\n",
            "1280/1280 [==============================] - 16s 12ms/step - loss: 0.0047 - accuracy: 0.9991 - val_loss: 0.0036 - val_accuracy: 0.9991\n"
          ]
        }
      ]
    },
    {
      "cell_type": "code",
      "source": [
        "rnn_pred = rnn_model.predict(X_test)"
      ],
      "metadata": {
        "colab": {
          "base_uri": "https://localhost:8080/"
        },
        "id": "UgHeXZf0XUkd",
        "outputId": "72928cbe-4224-4f92-c72c-a3bf38b37ea4"
      },
      "execution_count": null,
      "outputs": [
        {
          "output_type": "stream",
          "name": "stdout",
          "text": [
            "275/275 [==============================] - 3s 8ms/step\n"
          ]
        }
      ]
    },
    {
      "cell_type": "code",
      "source": [
        "plot_loss_curves(rnn_history)"
      ],
      "metadata": {
        "colab": {
          "base_uri": "https://localhost:8080/",
          "height": 573
        },
        "id": "DI5hLtRraY8c",
        "outputId": "89a1d073-d422-46cc-e761-9b6c6c81a8f4"
      },
      "execution_count": null,
      "outputs": [
        {
          "output_type": "display_data",
          "data": {
            "text/plain": [
              "<Figure size 432x288 with 1 Axes>"
            ],
            "image/png": "[encoded data removed]"
          },
          "metadata": {
            "needs_background": "light"
          }
        },
        {
          "output_type": "display_data",
          "data": {
            "text/plain": [
              "<Figure size 432x288 with 1 Axes>"
            ],
            "image/png": "[encoded data removed]"
          },
          "metadata": {
            "needs_background": "light"
          }
        }
      ]
    },
    {
      "cell_type": "code",
      "source": [
        "calculate_results(y_test, tf.round(rnn_pred))"
      ],
      "metadata": {
        "colab": {
          "base_uri": "https://localhost:8080/"
        },
        "id": "GtT3PdpMacVf",
        "outputId": "1f13f130-0057-48dc-8ca6-feaf745e249d"
      },
      "execution_count": null,
      "outputs": [
        {
          "output_type": "execute_result",
          "data": {
            "text/plain": [
              "{'accuracy': 99.94311717861206,\n",
              " 'precision': 0.9994313955188239,\n",
              " 'recall': 0.9994311717861206,\n",
              " 'f1': 0.9994311671674551}"
            ]
          },
          "metadata": {},
          "execution_count": 41
        }
      ]
    },
    {
      "cell_type": "code",
      "source": [
        "plot_confusion_matrix(y_test, tf.round(rnn_pred))"
      ],
      "metadata": {
        "colab": {
          "base_uri": "https://localhost:8080/",
          "height": 389
        },
        "id": "lO0FjhvEah9o",
        "outputId": "c46db656-496d-4a4c-fbae-4e482b09b43a"
      },
      "execution_count": null,
      "outputs": [
        {
          "output_type": "display_data",
          "data": {
            "text/plain": [
              "<Figure size 648x432 with 1 Axes>"
            ],
            "image/png": "[encoded data removed]"
          },
          "metadata": {
            "needs_background": "light"
          }
        }
      ]
    },
    {
      "cell_type": "code",
      "source": [
        "rnn_model.save('/content/drive/MyDrive/Univerui/Kursinis/models/rnn_model.h5')"
      ],
      "metadata": {
        "id": "WyCjQlr-ng5R"
      },
      "execution_count": null,
      "outputs": []
    },
    {
      "cell_type": "markdown",
      "source": [
        "## Autoencoder + MLP"
      ],
      "metadata": {
        "id": "_JCz5lwWaxLD"
      }
    },
    {
      "cell_type": "markdown",
      "source": [
        "### Baseline"
      ],
      "metadata": {
        "id": "LrUgn6KKf6aw"
      }
    },
    {
      "cell_type": "code",
      "source": [
        "inputs = Input(shape=(52,))\n",
        "\n",
        "# Defining encoder\n",
        "encoder = Dense(32, activation='relu')(inputs)\n",
        "encoder = Dense(16, activation='relu')(encoder)\n",
        "\n",
        "# Defining bottleneck\n",
        "bottleneck = Dense(8, activation='relu')(encoder)\n",
        "\n",
        "# Defining decoder\n",
        "decoder = Dense(16, activation='relu')(bottleneck)\n",
        "decoder = Dense(32, activation='relu')(decoder)\n",
        "\n",
        "outputs = Dense(52, activation='relu')(decoder)\n",
        "\n",
        "ae_model = tf.keras.Model(inputs, outputs)\n",
        "\n",
        "ae_model.summary()"
      ],
      "metadata": {
        "colab": {
          "base_uri": "https://localhost:8080/"
        },
        "id": "GoslHNP4avtq",
        "outputId": "9b6442e3-8f0e-4704-cb95-da6ae9780979"
      },
      "execution_count": null,
      "outputs": [
        {
          "output_type": "stream",
          "name": "stdout",
          "text": [
            "Model: \"model_2\"\n",
            "_________________________________________________________________\n",
            " Layer (type)                Output Shape              Param #   \n",
            "=================================================================\n",
            " input_5 (InputLayer)        [(None, 52)]              0         \n",
            "                                                                 \n",
            " dense_32 (Dense)            (None, 32)                1696      \n",
            "                                                                 \n",
            " dense_33 (Dense)            (None, 16)                528       \n",
            "                                                                 \n",
            " dense_34 (Dense)            (None, 8)                 136       \n",
            "                                                                 \n",
            " dense_35 (Dense)            (None, 16)                144       \n",
            "                                                                 \n",
            " dense_36 (Dense)            (None, 32)                544       \n",
            "                                                                 \n",
            " dense_37 (Dense)            (None, 52)                1716      \n",
            "                                                                 \n",
            "=================================================================\n",
            "Total params: 4,764\n",
            "Trainable params: 4,764\n",
            "Non-trainable params: 0\n",
            "_________________________________________________________________\n"
          ]
        }
      ]
    },
    {
      "cell_type": "code",
      "source": [
        "ae_model.compile(loss='mae',\n",
        "                 optimizer='adadelta',\n",
        "                 metrics=['accuracy'])\n",
        "\n",
        "ae_history =ae_model.fit(X_train, y_train,\n",
        "            epochs=10,\n",
        "            batch_size=32,\n",
        "            validation_data=(X_valid, y_valid))"
      ],
      "metadata": {
        "colab": {
          "base_uri": "https://localhost:8080/"
        },
        "id": "GuS3VygHd09v",
        "outputId": "baba811c-8744-4742-a01c-11b194885780"
      },
      "execution_count": null,
      "outputs": [
        {
          "output_type": "stream",
          "name": "stdout",
          "text": [
            "Epoch 1/10\n",
            "1280/1280 [==============================] - 4s 3ms/step - loss: 3.2282 - accuracy: 0.0015 - val_loss: 3.0766 - val_accuracy: 6.7674e-04\n",
            "Epoch 2/10\n",
            "1280/1280 [==============================] - 4s 3ms/step - loss: 3.0011 - accuracy: 0.0015 - val_loss: 2.8613 - val_accuracy: 6.7674e-04\n",
            "Epoch 3/10\n",
            "1280/1280 [==============================] - 3s 3ms/step - loss: 2.8063 - accuracy: 0.0017 - val_loss: 2.6804 - val_accuracy: 0.0016\n",
            "Epoch 4/10\n",
            "1280/1280 [==============================] - 3s 3ms/step - loss: 2.6133 - accuracy: 0.0035 - val_loss: 2.4913 - val_accuracy: 0.0054\n",
            "Epoch 5/10\n",
            "1280/1280 [==============================] - 3s 2ms/step - loss: 2.4313 - accuracy: 0.0127 - val_loss: 2.3162 - val_accuracy: 0.0186\n",
            "Epoch 6/10\n",
            "1280/1280 [==============================] - 4s 3ms/step - loss: 2.2620 - accuracy: 0.0301 - val_loss: 2.1574 - val_accuracy: 0.0315\n",
            "Epoch 7/10\n",
            "1280/1280 [==============================] - 3s 3ms/step - loss: 2.1065 - accuracy: 0.0427 - val_loss: 2.0099 - val_accuracy: 0.0422\n",
            "Epoch 8/10\n",
            "1280/1280 [==============================] - 4s 3ms/step - loss: 1.9591 - accuracy: 0.0513 - val_loss: 1.8701 - val_accuracy: 0.0483\n",
            "Epoch 9/10\n",
            "1280/1280 [==============================] - 4s 3ms/step - loss: 1.8221 - accuracy: 0.0536 - val_loss: 1.7384 - val_accuracy: 0.0471\n",
            "Epoch 10/10\n",
            "1280/1280 [==============================] - 4s 3ms/step - loss: 1.6930 - accuracy: 0.0520 - val_loss: 1.6131 - val_accuracy: 0.0443\n"
          ]
        }
      ]
    },
    {
      "cell_type": "code",
      "source": [
        "plot_loss_curves(ae_history)"
      ],
      "metadata": {
        "colab": {
          "base_uri": "https://localhost:8080/",
          "height": 573
        },
        "id": "PyjDbUYngKjY",
        "outputId": "e381251d-222c-4c41-afec-060a434bcabe"
      },
      "execution_count": null,
      "outputs": [
        {
          "output_type": "display_data",
          "data": {
            "text/plain": [
              "<Figure size 432x288 with 1 Axes>"
            ],
            "image/png": "[encoded data removed]"
          },
          "metadata": {
            "needs_background": "light"
          }
        },
        {
          "output_type": "display_data",
          "data": {
            "text/plain": [
              "<Figure size 432x288 with 1 Axes>"
            ],
            "image/png": "[encoded data removed]"
          },
          "metadata": {
            "needs_background": "light"
          }
        }
      ]
    },
    {
      "cell_type": "markdown",
      "source": [
        "### Changing activation function from relu to tanh"
      ],
      "metadata": {
        "id": "-CGJDyHpf8Bu"
      }
    },
    {
      "cell_type": "code",
      "source": [
        "inputs = Input(shape=(52,))\n",
        "\n",
        "# Defining encoder\n",
        "encoder = Dense(32, activation='tanh')(inputs)\n",
        "encoder = Dense(16, activation='tanh')(encoder)\n",
        "\n",
        "# Defining bottleneck\n",
        "bottleneck = Dense(8, activation='tanh')(encoder)\n",
        "\n",
        "# Defining decoder\n",
        "decoder = Dense(16, activation='tanh')(bottleneck)\n",
        "decoder = Dense(32, activation='tanh')(decoder)\n",
        "\n",
        "outputs = Dense(52, activation='tanh')(decoder)\n",
        "\n",
        "ae_model_1 = tf.keras.Model(inputs, outputs)"
      ],
      "metadata": {
        "id": "3C1GkQDXeR-0"
      },
      "execution_count": null,
      "outputs": []
    },
    {
      "cell_type": "code",
      "source": [
        "ae_model_1.compile(loss='mae',\n",
        "                 optimizer='adadelta',\n",
        "                 metrics=['accuracy'])\n",
        "\n",
        "ae_history_1 =ae_model_1.fit(X_train, y_train,\n",
        "            epochs=10,\n",
        "            batch_size=32,\n",
        "            validation_data=(X_valid, y_valid))"
      ],
      "metadata": {
        "colab": {
          "base_uri": "https://localhost:8080/"
        },
        "id": "7KjKycBwgG44",
        "outputId": "fbd8baa6-d92c-48cf-d714-62995b363a63"
      },
      "execution_count": null,
      "outputs": [
        {
          "output_type": "stream",
          "name": "stdout",
          "text": [
            "Epoch 1/10\n",
            "1280/1280 [==============================] - 6s 4ms/step - loss: 0.5622 - accuracy: 0.0313 - val_loss: 0.5525 - val_accuracy: 0.0380\n",
            "Epoch 2/10\n",
            "1280/1280 [==============================] - 4s 3ms/step - loss: 0.5496 - accuracy: 0.0476 - val_loss: 0.5404 - val_accuracy: 0.0508\n",
            "Epoch 3/10\n",
            "1280/1280 [==============================] - 3s 3ms/step - loss: 0.5384 - accuracy: 0.0577 - val_loss: 0.5300 - val_accuracy: 0.0601\n",
            "Epoch 4/10\n",
            "1280/1280 [==============================] - 4s 3ms/step - loss: 0.5288 - accuracy: 0.0667 - val_loss: 0.5211 - val_accuracy: 0.0667\n",
            "Epoch 5/10\n",
            "1280/1280 [==============================] - 4s 3ms/step - loss: 0.5205 - accuracy: 0.0689 - val_loss: 0.5132 - val_accuracy: 0.0660\n",
            "Epoch 6/10\n",
            "1280/1280 [==============================] - 3s 3ms/step - loss: 0.5129 - accuracy: 0.0697 - val_loss: 0.5058 - val_accuracy: 0.0667\n",
            "Epoch 7/10\n",
            "1280/1280 [==============================] - 3s 3ms/step - loss: 0.5056 - accuracy: 0.0729 - val_loss: 0.4985 - val_accuracy: 0.0697\n",
            "Epoch 8/10\n",
            "1280/1280 [==============================] - 3s 3ms/step - loss: 0.4981 - accuracy: 0.0749 - val_loss: 0.4908 - val_accuracy: 0.0727\n",
            "Epoch 9/10\n",
            "1280/1280 [==============================] - 3s 3ms/step - loss: 0.4900 - accuracy: 0.0683 - val_loss: 0.4823 - val_accuracy: 0.0582\n",
            "Epoch 10/10\n",
            "1280/1280 [==============================] - 4s 3ms/step - loss: 0.4809 - accuracy: 0.0550 - val_loss: 0.4727 - val_accuracy: 0.0519\n"
          ]
        }
      ]
    },
    {
      "cell_type": "code",
      "source": [
        "plot_loss_curves(ae_history_1)"
      ],
      "metadata": {
        "colab": {
          "base_uri": "https://localhost:8080/",
          "height": 573
        },
        "id": "NGl8Mvp-gThN",
        "outputId": "18e99149-6045-4777-f790-f0b60e852588"
      },
      "execution_count": null,
      "outputs": [
        {
          "output_type": "display_data",
          "data": {
            "text/plain": [
              "<Figure size 432x288 with 1 Axes>"
            ],
            "image/png": "[encoded data removed]"
          },
          "metadata": {
            "needs_background": "light"
          }
        },
        {
          "output_type": "display_data",
          "data": {
            "text/plain": [
              "<Figure size 432x288 with 1 Axes>"
            ],
            "image/png": "[encoded data removed]"
          },
          "metadata": {
            "needs_background": "light"
          }
        }
      ]
    },
    {
      "cell_type": "markdown",
      "source": [
        "### Adding activity regulizers to encoder and decoders"
      ],
      "metadata": {
        "id": "NJ0LgFn5gjt1"
      }
    },
    {
      "cell_type": "code",
      "source": [
        "inputs = Input(shape=(52,))\n",
        "\n",
        "# Defining encoder\n",
        "encoder = Dense(32, activation='tanh',\n",
        "                activity_regularizer = regularizers.l1())(inputs)\n",
        "encoder = Dense(16, activation='tanh',\n",
        "                activity_regularizer = regularizers.l1())(encoder)\n",
        "\n",
        "# Defining bottleneck\n",
        "bottleneck = Dense(8, activation='tanh')(encoder)\n",
        "\n",
        "# Defining decoder\n",
        "decoder = Dense(16, activation='tanh',\n",
        "                activity_regularizer = regularizers.l1())(bottleneck)\n",
        "decoder = Dense(32, activation='tanh',\n",
        "                activity_regularizer = regularizers.l1())(decoder)\n",
        "\n",
        "outputs = Dense(52, activation='tanh')(decoder)\n",
        "\n",
        "ae_model_2 = tf.keras.Model(inputs, outputs)\n",
        "\n",
        "ae_model_2.compile(loss='mae',\n",
        "                 optimizer='adadelta',\n",
        "                 metrics=['accuracy'])\n",
        "\n",
        "ae_history_2 =ae_model_2.fit(X_train, y_train,\n",
        "            epochs=10,\n",
        "            batch_size=32,\n",
        "            validation_data=(X_valid, y_valid))"
      ],
      "metadata": {
        "colab": {
          "base_uri": "https://localhost:8080/"
        },
        "id": "OxSIZTW8ghqh",
        "outputId": "ae0d1095-055f-498d-fa5a-6b90c2b80ff0"
      },
      "execution_count": null,
      "outputs": [
        {
          "output_type": "stream",
          "name": "stdout",
          "text": [
            "Epoch 1/10\n",
            "1280/1280 [==============================] - 5s 3ms/step - loss: 0.9061 - accuracy: 3.4196e-04 - val_loss: 0.8797 - val_accuracy: 3.3837e-04\n",
            "Epoch 2/10\n",
            "1280/1280 [==============================] - 3s 3ms/step - loss: 0.8613 - accuracy: 4.6409e-04 - val_loss: 0.8361 - val_accuracy: 3.3837e-04\n",
            "Epoch 3/10\n",
            "1280/1280 [==============================] - 3s 3ms/step - loss: 0.8231 - accuracy: 4.8852e-04 - val_loss: 0.8034 - val_accuracy: 7.8953e-04\n",
            "Epoch 4/10\n",
            "1280/1280 [==============================] - 4s 3ms/step - loss: 0.7949 - accuracy: 5.3737e-04 - val_loss: 0.7794 - val_accuracy: 0.0010\n",
            "Epoch 5/10\n",
            "1280/1280 [==============================] - 4s 3ms/step - loss: 0.7736 - accuracy: 7.3278e-04 - val_loss: 0.7609 - val_accuracy: 0.0014\n",
            "Epoch 6/10\n",
            "1280/1280 [==============================] - 3s 3ms/step - loss: 0.7567 - accuracy: 8.0606e-04 - val_loss: 0.7457 - val_accuracy: 0.0014\n",
            "Epoch 7/10\n",
            "1280/1280 [==============================] - 3s 3ms/step - loss: 0.7425 - accuracy: 9.0376e-04 - val_loss: 0.7327 - val_accuracy: 0.0014\n",
            "Epoch 8/10\n",
            "1280/1280 [==============================] - 4s 3ms/step - loss: 0.7301 - accuracy: 8.7934e-04 - val_loss: 0.7212 - val_accuracy: 0.0015\n",
            "Epoch 9/10\n",
            "1280/1280 [==============================] - 4s 3ms/step - loss: 0.7190 - accuracy: 8.5491e-04 - val_loss: 0.7107 - val_accuracy: 0.0017\n",
            "Epoch 10/10\n",
            "1280/1280 [==============================] - 4s 3ms/step - loss: 0.7089 - accuracy: 8.3048e-04 - val_loss: 0.7009 - val_accuracy: 0.0017\n"
          ]
        }
      ]
    },
    {
      "cell_type": "code",
      "source": [
        "plot_loss_curves(ae_history_2)"
      ],
      "metadata": {
        "colab": {
          "base_uri": "https://localhost:8080/",
          "height": 573
        },
        "id": "5d-zPKD5g7nW",
        "outputId": "29b3b97f-bb21-4ea4-edcc-1fc9a9e0bd06"
      },
      "execution_count": null,
      "outputs": [
        {
          "output_type": "display_data",
          "data": {
            "text/plain": [
              "<Figure size 432x288 with 1 Axes>"
            ],
            "image/png": "[encoded data removed]"
          },
          "metadata": {
            "needs_background": "light"
          }
        },
        {
          "output_type": "display_data",
          "data": {
            "text/plain": [
              "<Figure size 432x288 with 1 Axes>"
            ],
            "image/png": "[encoded data removed]"
          },
          "metadata": {
            "needs_background": "light"
          }
        }
      ]
    },
    {
      "cell_type": "markdown",
      "source": [
        "### Instead of activity  regulizer trying batch normalization"
      ],
      "metadata": {
        "id": "feUubgw7hfFp"
      }
    },
    {
      "cell_type": "code",
      "source": [
        "inputs = Input(shape=(52,))\n",
        "\n",
        "# Defining encoder\n",
        "encoder = Dense(32, activation='tanh')(inputs)\n",
        "encoder = BatchNormalization()(encoder)\n",
        "encoder = Dense(16, activation='tanh')(encoder)\n",
        "encoder = BatchNormalization()(encoder)\n",
        "\n",
        "# Defining bottleneck\n",
        "bottleneck = Dense(8, activation='tanh')(encoder)\n",
        "\n",
        "# Defining decoder\n",
        "decoder = Dense(16, activation='tanh')(bottleneck)\n",
        "decoder = BatchNormalization()(decoder)\n",
        "decoder = Dense(32, activation='tanh')(decoder)\n",
        "decoder = BatchNormalization()(decoder)\n",
        "\n",
        "outputs = Dense(52, activation='tanh')(decoder)\n",
        "\n",
        "ae_model_3 = tf.keras.Model(inputs, outputs)\n",
        "\n",
        "ae_model_3.compile(loss='mae',\n",
        "                 optimizer='adadelta',\n",
        "                 metrics=['accuracy'])\n",
        "\n",
        "ae_history_3 =ae_model_3.fit(X_train, y_train,\n",
        "            epochs=10,\n",
        "            batch_size=32,\n",
        "            validation_data=(X_valid, y_valid))"
      ],
      "metadata": {
        "colab": {
          "base_uri": "https://localhost:8080/"
        },
        "id": "xvNi-VoXhZeB",
        "outputId": "2d4c4f47-1150-4de9-c050-9f084324a5b9"
      },
      "execution_count": null,
      "outputs": [
        {
          "output_type": "stream",
          "name": "stdout",
          "text": [
            "Epoch 1/10\n",
            "1280/1280 [==============================] - 48s 4ms/step - loss: 0.7282 - accuracy: 0.0159 - val_loss: 0.7121 - val_accuracy: 0.0090\n",
            "Epoch 2/10\n",
            "1280/1280 [==============================] - 5s 4ms/step - loss: 0.7054 - accuracy: 0.0152 - val_loss: 0.6875 - val_accuracy: 0.0082\n",
            "Epoch 3/10\n",
            "1280/1280 [==============================] - 5s 4ms/step - loss: 0.6849 - accuracy: 0.0175 - val_loss: 0.6674 - val_accuracy: 0.0115\n",
            "Epoch 4/10\n",
            "1280/1280 [==============================] - 4s 3ms/step - loss: 0.6656 - accuracy: 0.0204 - val_loss: 0.6477 - val_accuracy: 0.0135\n",
            "Epoch 5/10\n",
            "1280/1280 [==============================] - 5s 4ms/step - loss: 0.6468 - accuracy: 0.0228 - val_loss: 0.6296 - val_accuracy: 0.0176\n",
            "Epoch 6/10\n",
            "1280/1280 [==============================] - 4s 3ms/step - loss: 0.6277 - accuracy: 0.0248 - val_loss: 0.6072 - val_accuracy: 0.0186\n",
            "Epoch 7/10\n",
            "1280/1280 [==============================] - 4s 3ms/step - loss: 0.6094 - accuracy: 0.0274 - val_loss: 0.5913 - val_accuracy: 0.0195\n",
            "Epoch 8/10\n",
            "1280/1280 [==============================] - 5s 4ms/step - loss: 0.5919 - accuracy: 0.0267 - val_loss: 0.5721 - val_accuracy: 0.0186\n",
            "Epoch 9/10\n",
            "1280/1280 [==============================] - 5s 4ms/step - loss: 0.5745 - accuracy: 0.0235 - val_loss: 0.5581 - val_accuracy: 0.0173\n",
            "Epoch 10/10\n",
            "1280/1280 [==============================] - 5s 4ms/step - loss: 0.5581 - accuracy: 0.0206 - val_loss: 0.5427 - val_accuracy: 0.0139\n"
          ]
        }
      ]
    },
    {
      "cell_type": "markdown",
      "source": [
        "### first experimentation with batch normalization"
      ],
      "metadata": {
        "id": "hjrFsf0giQog"
      }
    },
    {
      "cell_type": "code",
      "source": [
        "inputs = Input(shape=(52,))\n",
        "\n",
        "# Defining encoder\n",
        "encoder = Dense(32, activation='relu')(inputs)\n",
        "encoder = BatchNormalization()(encoder)\n",
        "encoder = Dense(16, activation='relu')(encoder)\n",
        "encoder = BatchNormalization()(encoder)\n",
        "\n",
        "# Defining bottleneck\n",
        "bottleneck = Dense(8, activation='relu')(encoder)\n",
        "\n",
        "# Defining decoder\n",
        "decoder = Dense(16, activation='relu')(bottleneck)\n",
        "decoder = BatchNormalization()(decoder)\n",
        "decoder = Dense(32, activation='relu')(decoder)\n",
        "decoder = BatchNormalization()(decoder)\n",
        "outputs = Dense(52, activation='relu')(decoder)\n",
        "\n",
        "ae_model_4 = tf.keras.Model(inputs, outputs)\n",
        "\n",
        "ae_model_4.compile(loss='mae',\n",
        "                 optimizer='adadelta',\n",
        "                 metrics=['accuracy'])\n",
        "\n",
        "ae_history_4 =ae_model_4.fit(X_train, y_train,\n",
        "            epochs=10,\n",
        "            batch_size=32,\n",
        "            validation_data=(X_valid, y_valid))"
      ],
      "metadata": {
        "colab": {
          "base_uri": "https://localhost:8080/"
        },
        "id": "7Y_xtjIUh0Iy",
        "outputId": "694c638c-2a99-4979-b74d-2d90a107118f"
      },
      "execution_count": null,
      "outputs": [
        {
          "output_type": "stream",
          "name": "stdout",
          "text": [
            "Epoch 1/10\n",
            "1280/1280 [==============================] - 7s 4ms/step - loss: 0.5236 - accuracy: 0.0028 - val_loss: 0.5164 - val_accuracy: 0.0000e+00\n",
            "Epoch 2/10\n",
            "1280/1280 [==============================] - 5s 4ms/step - loss: 0.5159 - accuracy: 0.0024 - val_loss: 0.5159 - val_accuracy: 0.0000e+00\n",
            "Epoch 3/10\n",
            "1280/1280 [==============================] - 5s 4ms/step - loss: 0.5087 - accuracy: 0.0028 - val_loss: 0.5091 - val_accuracy: 0.0000e+00\n",
            "Epoch 4/10\n",
            "1280/1280 [==============================] - 5s 4ms/step - loss: 0.5010 - accuracy: 0.0026 - val_loss: 0.5079 - val_accuracy: 0.0000e+00\n",
            "Epoch 5/10\n",
            "1280/1280 [==============================] - 5s 4ms/step - loss: 0.4937 - accuracy: 0.0028 - val_loss: 0.5021 - val_accuracy: 0.0000e+00\n",
            "Epoch 6/10\n",
            "1280/1280 [==============================] - 5s 4ms/step - loss: 0.4863 - accuracy: 0.0031 - val_loss: 0.4970 - val_accuracy: 0.0000e+00\n",
            "Epoch 7/10\n",
            "1280/1280 [==============================] - 4s 3ms/step - loss: 0.4786 - accuracy: 0.0033 - val_loss: 0.4907 - val_accuracy: 0.0000e+00\n",
            "Epoch 8/10\n",
            "1280/1280 [==============================] - 5s 4ms/step - loss: 0.4705 - accuracy: 0.0028 - val_loss: 0.4852 - val_accuracy: 0.0000e+00\n",
            "Epoch 9/10\n",
            "1280/1280 [==============================] - 5s 4ms/step - loss: 0.4630 - accuracy: 0.0027 - val_loss: 0.4819 - val_accuracy: 0.0000e+00\n",
            "Epoch 10/10\n",
            "1280/1280 [==============================] - 4s 3ms/step - loss: 0.4553 - accuracy: 0.0029 - val_loss: 0.4742 - val_accuracy: 0.0000e+00\n"
          ]
        }
      ]
    },
    {
      "cell_type": "markdown",
      "source": [
        "##  first model of autoencoder trained for longer"
      ],
      "metadata": {
        "id": "NGGl9ggkiznK"
      }
    },
    {
      "cell_type": "code",
      "source": [
        "es_callback = tf.keras.callbacks.EarlyStopping(monitor='val_loss', patience=3)"
      ],
      "metadata": {
        "id": "No2Ntt9ejC1D"
      },
      "execution_count": null,
      "outputs": []
    },
    {
      "cell_type": "code",
      "source": [
        "inputs = Input(shape=(52,))\n",
        "\n",
        "# Defining encoder\n",
        "encoder = Dense(32, activation='relu')(inputs)\n",
        "encoder = Dense(16, activation='relu')(encoder)\n",
        "\n",
        "# Defining bottleneck\n",
        "bottleneck = Dense(8, activation='relu')(encoder)\n",
        "\n",
        "# Defining decoder\n",
        "decoder = Dense(16, activation='relu')(bottleneck)\n",
        "decoder = Dense(32, activation='relu')(decoder)\n",
        "\n",
        "outputs = Dense(52, activation='relu')(decoder)\n",
        "\n",
        "ae_model_f = tf.keras.Model(inputs, outputs)\n"
      ],
      "metadata": {
        "id": "GXcvCrb1imjv"
      },
      "execution_count": null,
      "outputs": []
    },
    {
      "cell_type": "code",
      "source": [
        "ae_model_f.compile(loss='mae',\n",
        "                 optimizer='adadelta',\n",
        "                 metrics=['accuracy'])\n",
        "\n",
        "ae_history_f =ae_model_f.fit(X_train, y_train,\n",
        "            epochs=300,\n",
        "            batch_size=32,\n",
        "            validation_data=(X_valid, y_valid),\n",
        "            callbacks=[es_callback])"
      ],
      "metadata": {
        "colab": {
          "base_uri": "https://localhost:8080/"
        },
        "id": "xP_o99S_o5hq",
        "outputId": "aa795991-e1fb-4de7-93f1-cbb71ea199da"
      },
      "execution_count": null,
      "outputs": [
        {
          "output_type": "stream",
          "name": "stdout",
          "text": [
            "Epoch 1/300\n",
            "1280/1280 [==============================] - 6s 3ms/step - loss: 1.6223 - accuracy: 0.0020 - val_loss: 1.5652 - val_accuracy: 0.0016\n",
            "Epoch 2/300\n",
            "1280/1280 [==============================] - 3s 2ms/step - loss: 1.5397 - accuracy: 0.0022 - val_loss: 1.4894 - val_accuracy: 0.0025\n",
            "Epoch 3/300\n",
            "1280/1280 [==============================] - 3s 2ms/step - loss: 1.4707 - accuracy: 0.0028 - val_loss: 1.4241 - val_accuracy: 0.0034\n",
            "Epoch 4/300\n",
            "1280/1280 [==============================] - 3s 2ms/step - loss: 1.4003 - accuracy: 0.0032 - val_loss: 1.3540 - val_accuracy: 0.0037\n",
            "Epoch 5/300\n",
            "1280/1280 [==============================] - 3s 3ms/step - loss: 1.3326 - accuracy: 0.0044 - val_loss: 1.2891 - val_accuracy: 0.0064\n",
            "Epoch 6/300\n",
            "1280/1280 [==============================] - 3s 2ms/step - loss: 1.2680 - accuracy: 0.0078 - val_loss: 1.2264 - val_accuracy: 0.0086\n",
            "Epoch 7/300\n",
            "1280/1280 [==============================] - 3s 3ms/step - loss: 1.2063 - accuracy: 0.0112 - val_loss: 1.1672 - val_accuracy: 0.0144\n",
            "Epoch 8/300\n",
            "1280/1280 [==============================] - 3s 2ms/step - loss: 1.1462 - accuracy: 0.0150 - val_loss: 1.1093 - val_accuracy: 0.0166\n",
            "Epoch 9/300\n",
            "1280/1280 [==============================] - 3s 2ms/step - loss: 1.0906 - accuracy: 0.0172 - val_loss: 1.0572 - val_accuracy: 0.0165\n",
            "Epoch 10/300\n",
            "1280/1280 [==============================] - 3s 2ms/step - loss: 1.0392 - accuracy: 0.0174 - val_loss: 1.0063 - val_accuracy: 0.0168\n",
            "Epoch 11/300\n",
            "1280/1280 [==============================] - 4s 3ms/step - loss: 0.9869 - accuracy: 0.0154 - val_loss: 0.9543 - val_accuracy: 0.0152\n",
            "Epoch 12/300\n",
            "1280/1280 [==============================] - 3s 2ms/step - loss: 0.9337 - accuracy: 0.0139 - val_loss: 0.9040 - val_accuracy: 0.0135\n",
            "Epoch 13/300\n",
            "1280/1280 [==============================] - 3s 3ms/step - loss: 0.8853 - accuracy: 0.0194 - val_loss: 0.8579 - val_accuracy: 0.0235\n",
            "Epoch 14/300\n",
            "1280/1280 [==============================] - 3s 2ms/step - loss: 0.8412 - accuracy: 0.0218 - val_loss: 0.8145 - val_accuracy: 0.0204\n",
            "Epoch 15/300\n",
            "1280/1280 [==============================] - 4s 3ms/step - loss: 0.7991 - accuracy: 0.0209 - val_loss: 0.7744 - val_accuracy: 0.0205\n",
            "Epoch 16/300\n",
            "1280/1280 [==============================] - 4s 3ms/step - loss: 0.7590 - accuracy: 0.0171 - val_loss: 0.7354 - val_accuracy: 0.0155\n",
            "Epoch 17/300\n",
            "1280/1280 [==============================] - 4s 3ms/step - loss: 0.7212 - accuracy: 0.0138 - val_loss: 0.6992 - val_accuracy: 0.0133\n",
            "Epoch 18/300\n",
            "1280/1280 [==============================] - 3s 2ms/step - loss: 0.6872 - accuracy: 0.0133 - val_loss: 0.6661 - val_accuracy: 0.0141\n",
            "Epoch 19/300\n",
            "1280/1280 [==============================] - 3s 3ms/step - loss: 0.6531 - accuracy: 0.0143 - val_loss: 0.6332 - val_accuracy: 0.0155\n",
            "Epoch 20/300\n",
            "1280/1280 [==============================] - 3s 3ms/step - loss: 0.6203 - accuracy: 0.0163 - val_loss: 0.6012 - val_accuracy: 0.0164\n",
            "Epoch 21/300\n",
            "1280/1280 [==============================] - 3s 2ms/step - loss: 0.5894 - accuracy: 0.0125 - val_loss: 0.5721 - val_accuracy: 0.0115\n",
            "Epoch 22/300\n",
            "1280/1280 [==============================] - 6s 5ms/step - loss: 0.5602 - accuracy: 0.0090 - val_loss: 0.5437 - val_accuracy: 0.0105\n",
            "Epoch 23/300\n",
            "1280/1280 [==============================] - 3s 2ms/step - loss: 0.5324 - accuracy: 0.0116 - val_loss: 0.5166 - val_accuracy: 0.0132\n",
            "Epoch 24/300\n",
            "1280/1280 [==============================] - 3s 3ms/step - loss: 0.5063 - accuracy: 0.0151 - val_loss: 0.4922 - val_accuracy: 0.0151\n",
            "Epoch 25/300\n",
            "1280/1280 [==============================] - 3s 3ms/step - loss: 0.4825 - accuracy: 0.0159 - val_loss: 0.4693 - val_accuracy: 0.0150\n",
            "Epoch 26/300\n",
            "1280/1280 [==============================] - 3s 3ms/step - loss: 0.4593 - accuracy: 0.0166 - val_loss: 0.4470 - val_accuracy: 0.0162\n",
            "Epoch 27/300\n",
            "1280/1280 [==============================] - 3s 3ms/step - loss: 0.4378 - accuracy: 0.0296 - val_loss: 0.4267 - val_accuracy: 0.0450\n",
            "Epoch 28/300\n",
            "1280/1280 [==============================] - 3s 3ms/step - loss: 0.4180 - accuracy: 0.0559 - val_loss: 0.4078 - val_accuracy: 0.0545\n",
            "Epoch 29/300\n",
            "1280/1280 [==============================] - 3s 2ms/step - loss: 0.3999 - accuracy: 0.0570 - val_loss: 0.3904 - val_accuracy: 0.0511\n",
            "Epoch 30/300\n",
            "1280/1280 [==============================] - 3s 2ms/step - loss: 0.3828 - accuracy: 0.0524 - val_loss: 0.3743 - val_accuracy: 0.0473\n",
            "Epoch 31/300\n",
            "1280/1280 [==============================] - 3s 3ms/step - loss: 0.3674 - accuracy: 0.0497 - val_loss: 0.3598 - val_accuracy: 0.0479\n",
            "Epoch 32/300\n",
            "1280/1280 [==============================] - 3s 2ms/step - loss: 0.3536 - accuracy: 0.0542 - val_loss: 0.3473 - val_accuracy: 0.0561\n",
            "Epoch 33/300\n",
            "1280/1280 [==============================] - 4s 3ms/step - loss: 0.3418 - accuracy: 0.0546 - val_loss: 0.3357 - val_accuracy: 0.0529\n",
            "Epoch 34/300\n",
            "1280/1280 [==============================] - 3s 2ms/step - loss: 0.3308 - accuracy: 0.0553 - val_loss: 0.3253 - val_accuracy: 0.0587\n",
            "Epoch 35/300\n",
            "1280/1280 [==============================] - 3s 3ms/step - loss: 0.3211 - accuracy: 0.0653 - val_loss: 0.3167 - val_accuracy: 0.0813\n",
            "Epoch 36/300\n",
            "1280/1280 [==============================] - 3s 2ms/step - loss: 0.3133 - accuracy: 0.0873 - val_loss: 0.3095 - val_accuracy: 0.0854\n",
            "Epoch 37/300\n",
            "1280/1280 [==============================] - 3s 3ms/step - loss: 0.3064 - accuracy: 0.0891 - val_loss: 0.3031 - val_accuracy: 0.0868\n",
            "Epoch 38/300\n",
            "1280/1280 [==============================] - 3s 3ms/step - loss: 0.3006 - accuracy: 0.0978 - val_loss: 0.2976 - val_accuracy: 0.1006\n",
            "Epoch 39/300\n",
            "1280/1280 [==============================] - 3s 3ms/step - loss: 0.2953 - accuracy: 0.1088 - val_loss: 0.2927 - val_accuracy: 0.1111\n",
            "Epoch 40/300\n",
            "1280/1280 [==============================] - 4s 3ms/step - loss: 0.2909 - accuracy: 0.1241 - val_loss: 0.2888 - val_accuracy: 0.1234\n",
            "Epoch 41/300\n",
            "1280/1280 [==============================] - 3s 2ms/step - loss: 0.2875 - accuracy: 0.1328 - val_loss: 0.2856 - val_accuracy: 0.1330\n",
            "Epoch 42/300\n",
            "1280/1280 [==============================] - 3s 2ms/step - loss: 0.2845 - accuracy: 0.1387 - val_loss: 0.2827 - val_accuracy: 0.1390\n",
            "Epoch 43/300\n",
            "1280/1280 [==============================] - 3s 2ms/step - loss: 0.2816 - accuracy: 0.1811 - val_loss: 0.2800 - val_accuracy: 0.1378\n",
            "Epoch 44/300\n",
            "1280/1280 [==============================] - 3s 2ms/step - loss: 0.2789 - accuracy: 0.1878 - val_loss: 0.2773 - val_accuracy: 0.2975\n",
            "Epoch 45/300\n",
            "1280/1280 [==============================] - 3s 2ms/step - loss: 0.2761 - accuracy: 0.1870 - val_loss: 0.2746 - val_accuracy: 0.3012\n",
            "Epoch 46/300\n",
            "1280/1280 [==============================] - 4s 3ms/step - loss: 0.2737 - accuracy: 0.1907 - val_loss: 0.2723 - val_accuracy: 0.1375\n",
            "Epoch 47/300\n",
            "1280/1280 [==============================] - 3s 2ms/step - loss: 0.2713 - accuracy: 0.1956 - val_loss: 0.2700 - val_accuracy: 0.1394\n",
            "Epoch 48/300\n",
            "1280/1280 [==============================] - 3s 2ms/step - loss: 0.2692 - accuracy: 0.2085 - val_loss: 0.2679 - val_accuracy: 0.1429\n",
            "Epoch 49/300\n",
            "1280/1280 [==============================] - 3s 3ms/step - loss: 0.2671 - accuracy: 0.2089 - val_loss: 0.2660 - val_accuracy: 0.2995\n",
            "Epoch 50/300\n",
            "1280/1280 [==============================] - 3s 3ms/step - loss: 0.2652 - accuracy: 0.2108 - val_loss: 0.2641 - val_accuracy: 0.1370\n",
            "Epoch 51/300\n",
            "1280/1280 [==============================] - 3s 2ms/step - loss: 0.2634 - accuracy: 0.2197 - val_loss: 0.2624 - val_accuracy: 0.1408\n",
            "Epoch 52/300\n",
            "1280/1280 [==============================] - 3s 3ms/step - loss: 0.2616 - accuracy: 0.2177 - val_loss: 0.2608 - val_accuracy: 0.3039\n",
            "Epoch 53/300\n",
            "1280/1280 [==============================] - 3s 2ms/step - loss: 0.2600 - accuracy: 0.2244 - val_loss: 0.2592 - val_accuracy: 0.3059\n",
            "Epoch 54/300\n",
            "1280/1280 [==============================] - 3s 2ms/step - loss: 0.2585 - accuracy: 0.2286 - val_loss: 0.2578 - val_accuracy: 0.3084\n",
            "Epoch 55/300\n",
            "1280/1280 [==============================] - 3s 2ms/step - loss: 0.2572 - accuracy: 0.2312 - val_loss: 0.2565 - val_accuracy: 0.3146\n",
            "Epoch 56/300\n",
            "1280/1280 [==============================] - 3s 3ms/step - loss: 0.2559 - accuracy: 0.2399 - val_loss: 0.2554 - val_accuracy: 0.1626\n",
            "Epoch 57/300\n",
            "1280/1280 [==============================] - 3s 2ms/step - loss: 0.2548 - accuracy: 0.2412 - val_loss: 0.2544 - val_accuracy: 0.3213\n",
            "Epoch 58/300\n",
            "1280/1280 [==============================] - 3s 3ms/step - loss: 0.2538 - accuracy: 0.2446 - val_loss: 0.2534 - val_accuracy: 0.1591\n",
            "Epoch 59/300\n",
            "1280/1280 [==============================] - 3s 3ms/step - loss: 0.2528 - accuracy: 0.2434 - val_loss: 0.2525 - val_accuracy: 0.1608\n",
            "Epoch 60/300\n",
            "1280/1280 [==============================] - 3s 3ms/step - loss: 0.2520 - accuracy: 0.2477 - val_loss: 0.2517 - val_accuracy: 0.3282\n",
            "Epoch 61/300\n",
            "1280/1280 [==============================] - 3s 2ms/step - loss: 0.2511 - accuracy: 0.2477 - val_loss: 0.2509 - val_accuracy: 0.3275\n",
            "Epoch 62/300\n",
            "1280/1280 [==============================] - 3s 2ms/step - loss: 0.2504 - accuracy: 0.2471 - val_loss: 0.2502 - val_accuracy: 0.1611\n",
            "Epoch 63/300\n",
            "1280/1280 [==============================] - 3s 2ms/step - loss: 0.2497 - accuracy: 0.2522 - val_loss: 0.2495 - val_accuracy: 0.3321\n",
            "Epoch 64/300\n",
            "1280/1280 [==============================] - 3s 3ms/step - loss: 0.2490 - accuracy: 0.2536 - val_loss: 0.2488 - val_accuracy: 0.3333\n",
            "Epoch 65/300\n",
            "1280/1280 [==============================] - 3s 3ms/step - loss: 0.2483 - accuracy: 0.2534 - val_loss: 0.2481 - val_accuracy: 0.3348\n",
            "Epoch 66/300\n",
            "1280/1280 [==============================] - 3s 2ms/step - loss: 0.2476 - accuracy: 0.1722 - val_loss: 0.2473 - val_accuracy: 0.1535\n",
            "Epoch 67/300\n",
            "1280/1280 [==============================] - 3s 3ms/step - loss: 0.2465 - accuracy: 0.0873 - val_loss: 0.2461 - val_accuracy: 0.0156\n",
            "Epoch 68/300\n",
            "1280/1280 [==============================] - 3s 2ms/step - loss: 0.2452 - accuracy: 0.0147 - val_loss: 0.2448 - val_accuracy: 0.0116\n",
            "Epoch 69/300\n",
            "1280/1280 [==============================] - 3s 3ms/step - loss: 0.2439 - accuracy: 0.0123 - val_loss: 0.2436 - val_accuracy: 0.0086\n",
            "Epoch 70/300\n",
            "1280/1280 [==============================] - 3s 2ms/step - loss: 0.2427 - accuracy: 0.0100 - val_loss: 0.2424 - val_accuracy: 0.0073\n",
            "Epoch 71/300\n",
            "1280/1280 [==============================] - 3s 3ms/step - loss: 0.2415 - accuracy: 0.0067 - val_loss: 0.2412 - val_accuracy: 0.0034\n",
            "Epoch 72/300\n",
            "1280/1280 [==============================] - 3s 2ms/step - loss: 0.2403 - accuracy: 0.0036 - val_loss: 0.2400 - val_accuracy: 0.0028\n",
            "Epoch 73/300\n",
            "1280/1280 [==============================] - 3s 2ms/step - loss: 0.2391 - accuracy: 0.0032 - val_loss: 0.2389 - val_accuracy: 0.0025\n",
            "Epoch 74/300\n",
            "1280/1280 [==============================] - 3s 2ms/step - loss: 0.2380 - accuracy: 0.0034 - val_loss: 0.2378 - val_accuracy: 0.0027\n",
            "Epoch 75/300\n",
            "1280/1280 [==============================] - 3s 2ms/step - loss: 0.2370 - accuracy: 0.0040 - val_loss: 0.2368 - val_accuracy: 0.0034\n",
            "Epoch 76/300\n",
            "1280/1280 [==============================] - 3s 2ms/step - loss: 0.2360 - accuracy: 0.0052 - val_loss: 0.2359 - val_accuracy: 0.0064\n",
            "Epoch 77/300\n",
            "1280/1280 [==============================] - 4s 3ms/step - loss: 0.2351 - accuracy: 0.0118 - val_loss: 0.2351 - val_accuracy: 0.0160\n",
            "Epoch 78/300\n",
            "1280/1280 [==============================] - 3s 2ms/step - loss: 0.2344 - accuracy: 0.0571 - val_loss: 0.2344 - val_accuracy: 0.0964\n",
            "Epoch 79/300\n",
            "1280/1280 [==============================] - 3s 3ms/step - loss: 0.2338 - accuracy: 0.1123 - val_loss: 0.2339 - val_accuracy: 0.1183\n",
            "Epoch 80/300\n",
            "1280/1280 [==============================] - 3s 2ms/step - loss: 0.2332 - accuracy: 0.1387 - val_loss: 0.2333 - val_accuracy: 0.1522\n",
            "Epoch 81/300\n",
            "1280/1280 [==============================] - 3s 2ms/step - loss: 0.2326 - accuracy: 0.1862 - val_loss: 0.2324 - val_accuracy: 0.3621\n",
            "Epoch 82/300\n",
            "1280/1280 [==============================] - 3s 3ms/step - loss: 0.2315 - accuracy: 0.2772 - val_loss: 0.2313 - val_accuracy: 0.1770\n",
            "Epoch 83/300\n",
            "1280/1280 [==============================] - 3s 2ms/step - loss: 0.2303 - accuracy: 0.2867 - val_loss: 0.2301 - val_accuracy: 0.1773\n",
            "Epoch 84/300\n",
            "1280/1280 [==============================] - 3s 3ms/step - loss: 0.2292 - accuracy: 0.2783 - val_loss: 0.2290 - val_accuracy: 0.1748\n",
            "Epoch 85/300\n",
            "1280/1280 [==============================] - 3s 3ms/step - loss: 0.2281 - accuracy: 0.1645 - val_loss: 0.2279 - val_accuracy: 0.1491\n",
            "Epoch 86/300\n",
            "1280/1280 [==============================] - 3s 2ms/step - loss: 0.2270 - accuracy: 0.1475 - val_loss: 0.2268 - val_accuracy: 0.1391\n",
            "Epoch 87/300\n",
            "1280/1280 [==============================] - 3s 3ms/step - loss: 0.2259 - accuracy: 0.1428 - val_loss: 0.2258 - val_accuracy: 0.1334\n",
            "Epoch 88/300\n",
            "1280/1280 [==============================] - 3s 2ms/step - loss: 0.2248 - accuracy: 0.1365 - val_loss: 0.2247 - val_accuracy: 0.1256\n",
            "Epoch 89/300\n",
            "1280/1280 [==============================] - 3s 2ms/step - loss: 0.2238 - accuracy: 0.1313 - val_loss: 0.2237 - val_accuracy: 0.1240\n",
            "Epoch 90/300\n",
            "1280/1280 [==============================] - 3s 2ms/step - loss: 0.2228 - accuracy: 0.1287 - val_loss: 0.2228 - val_accuracy: 0.1209\n",
            "Epoch 91/300\n",
            "1280/1280 [==============================] - 3s 2ms/step - loss: 0.2219 - accuracy: 0.1266 - val_loss: 0.2219 - val_accuracy: 0.1202\n",
            "Epoch 92/300\n",
            "1280/1280 [==============================] - 3s 2ms/step - loss: 0.2210 - accuracy: 0.1268 - val_loss: 0.2211 - val_accuracy: 0.1247\n",
            "Epoch 93/300\n",
            "1280/1280 [==============================] - 3s 2ms/step - loss: 0.2203 - accuracy: 0.1340 - val_loss: 0.2204 - val_accuracy: 0.1364\n",
            "Epoch 94/300\n",
            "1280/1280 [==============================] - 3s 2ms/step - loss: 0.2198 - accuracy: 0.1473 - val_loss: 0.2201 - val_accuracy: 0.1496\n",
            "Epoch 95/300\n",
            "1280/1280 [==============================] - 3s 2ms/step - loss: 0.2194 - accuracy: 0.1619 - val_loss: 0.2196 - val_accuracy: 0.1789\n",
            "Epoch 96/300\n",
            "1280/1280 [==============================] - 3s 2ms/step - loss: 0.2190 - accuracy: 0.2874 - val_loss: 0.2193 - val_accuracy: 0.1842\n",
            "Epoch 97/300\n",
            "1280/1280 [==============================] - 3s 2ms/step - loss: 0.2187 - accuracy: 0.3091 - val_loss: 0.2189 - val_accuracy: 0.1837\n",
            "Epoch 98/300\n",
            "1280/1280 [==============================] - 3s 2ms/step - loss: 0.2183 - accuracy: 0.3133 - val_loss: 0.2186 - val_accuracy: 0.3863\n",
            "Epoch 99/300\n",
            "1280/1280 [==============================] - 3s 2ms/step - loss: 0.2180 - accuracy: 0.3107 - val_loss: 0.2182 - val_accuracy: 0.3855\n",
            "Epoch 100/300\n",
            "1280/1280 [==============================] - 3s 2ms/step - loss: 0.2177 - accuracy: 0.3154 - val_loss: 0.2179 - val_accuracy: 0.3854\n",
            "Epoch 101/300\n",
            "1280/1280 [==============================] - 3s 2ms/step - loss: 0.2173 - accuracy: 0.3185 - val_loss: 0.2176 - val_accuracy: 0.3854\n",
            "Epoch 102/300\n",
            "1280/1280 [==============================] - 3s 2ms/step - loss: 0.2170 - accuracy: 0.3224 - val_loss: 0.2172 - val_accuracy: 0.3853\n",
            "Epoch 103/300\n",
            "1280/1280 [==============================] - 3s 2ms/step - loss: 0.2167 - accuracy: 0.3190 - val_loss: 0.2169 - val_accuracy: 0.3847\n",
            "Epoch 104/300\n",
            "1280/1280 [==============================] - 3s 2ms/step - loss: 0.2164 - accuracy: 0.3170 - val_loss: 0.2166 - val_accuracy: 0.3845\n",
            "Epoch 105/300\n",
            "1280/1280 [==============================] - 3s 3ms/step - loss: 0.2161 - accuracy: 0.3170 - val_loss: 0.2163 - val_accuracy: 0.1969\n",
            "Epoch 106/300\n",
            "1280/1280 [==============================] - 3s 3ms/step - loss: 0.2158 - accuracy: 0.3209 - val_loss: 0.2160 - val_accuracy: 0.3863\n",
            "Epoch 107/300\n",
            "1280/1280 [==============================] - 4s 3ms/step - loss: 0.2155 - accuracy: 0.3205 - val_loss: 0.2157 - val_accuracy: 0.3874\n",
            "Epoch 108/300\n",
            "1280/1280 [==============================] - 3s 2ms/step - loss: 0.2152 - accuracy: 0.3234 - val_loss: 0.2154 - val_accuracy: 0.2048\n",
            "Epoch 109/300\n",
            "1280/1280 [==============================] - 3s 3ms/step - loss: 0.2149 - accuracy: 0.3244 - val_loss: 0.2151 - val_accuracy: 0.2025\n",
            "Epoch 110/300\n",
            "1280/1280 [==============================] - 3s 3ms/step - loss: 0.2146 - accuracy: 0.3329 - val_loss: 0.2148 - val_accuracy: 0.2066\n",
            "Epoch 111/300\n",
            "1280/1280 [==============================] - 4s 3ms/step - loss: 0.2143 - accuracy: 0.3381 - val_loss: 0.2145 - val_accuracy: 0.3926\n",
            "Epoch 112/300\n",
            "1280/1280 [==============================] - 3s 3ms/step - loss: 0.2140 - accuracy: 0.3355 - val_loss: 0.2142 - val_accuracy: 0.2125\n",
            "Epoch 113/300\n",
            "1280/1280 [==============================] - 3s 2ms/step - loss: 0.2138 - accuracy: 0.3295 - val_loss: 0.2139 - val_accuracy: 0.3951\n",
            "Epoch 114/300\n",
            "1280/1280 [==============================] - 3s 3ms/step - loss: 0.2135 - accuracy: 0.3435 - val_loss: 0.2137 - val_accuracy: 0.3961\n",
            "Epoch 115/300\n",
            "1280/1280 [==============================] - 4s 3ms/step - loss: 0.2132 - accuracy: 0.3406 - val_loss: 0.2134 - val_accuracy: 0.3967\n",
            "Epoch 116/300\n",
            "1280/1280 [==============================] - 3s 3ms/step - loss: 0.2130 - accuracy: 0.3394 - val_loss: 0.2131 - val_accuracy: 0.2293\n",
            "Epoch 117/300\n",
            "1280/1280 [==============================] - 4s 3ms/step - loss: 0.2127 - accuracy: 0.3322 - val_loss: 0.2129 - val_accuracy: 0.3975\n",
            "Epoch 118/300\n",
            "1280/1280 [==============================] - 3s 3ms/step - loss: 0.2125 - accuracy: 0.3423 - val_loss: 0.2126 - val_accuracy: 0.3978\n",
            "Epoch 119/300\n",
            "1280/1280 [==============================] - 3s 3ms/step - loss: 0.2122 - accuracy: 0.3412 - val_loss: 0.2123 - val_accuracy: 0.2374\n",
            "Epoch 120/300\n",
            "1280/1280 [==============================] - 3s 2ms/step - loss: 0.2119 - accuracy: 0.3460 - val_loss: 0.2119 - val_accuracy: 0.3998\n",
            "Epoch 121/300\n",
            "1280/1280 [==============================] - 3s 3ms/step - loss: 0.2113 - accuracy: 0.3431 - val_loss: 0.2111 - val_accuracy: 0.2475\n",
            "Epoch 122/300\n",
            "1280/1280 [==============================] - 3s 3ms/step - loss: 0.2104 - accuracy: 0.3413 - val_loss: 0.2102 - val_accuracy: 0.4016\n",
            "Epoch 123/300\n",
            "1280/1280 [==============================] - 4s 3ms/step - loss: 0.2096 - accuracy: 0.3423 - val_loss: 0.2094 - val_accuracy: 0.2556\n",
            "Epoch 124/300\n",
            "1280/1280 [==============================] - 7s 6ms/step - loss: 0.2087 - accuracy: 0.3411 - val_loss: 0.2085 - val_accuracy: 0.2566\n",
            "Epoch 125/300\n",
            "1280/1280 [==============================] - 6s 5ms/step - loss: 0.2079 - accuracy: 0.3469 - val_loss: 0.2077 - val_accuracy: 0.3991\n",
            "Epoch 126/300\n",
            "1280/1280 [==============================] - 3s 2ms/step - loss: 0.2071 - accuracy: 0.3374 - val_loss: 0.2069 - val_accuracy: 0.3985\n",
            "Epoch 127/300\n",
            "1280/1280 [==============================] - 3s 2ms/step - loss: 0.2063 - accuracy: 0.3493 - val_loss: 0.2061 - val_accuracy: 0.3949\n",
            "Epoch 128/300\n",
            "1280/1280 [==============================] - 3s 3ms/step - loss: 0.2055 - accuracy: 0.3368 - val_loss: 0.2053 - val_accuracy: 0.3961\n",
            "Epoch 129/300\n",
            "1280/1280 [==============================] - 3s 3ms/step - loss: 0.2047 - accuracy: 0.3413 - val_loss: 0.2045 - val_accuracy: 0.3966\n",
            "Epoch 130/300\n",
            "1280/1280 [==============================] - 3s 2ms/step - loss: 0.2040 - accuracy: 0.3427 - val_loss: 0.2038 - val_accuracy: 0.3963\n",
            "Epoch 131/300\n",
            "1280/1280 [==============================] - 3s 3ms/step - loss: 0.2033 - accuracy: 0.3459 - val_loss: 0.2031 - val_accuracy: 0.2796\n",
            "Epoch 132/300\n",
            "1280/1280 [==============================] - 3s 2ms/step - loss: 0.2025 - accuracy: 0.3435 - val_loss: 0.2024 - val_accuracy: 0.2815\n",
            "Epoch 133/300\n",
            "1280/1280 [==============================] - 3s 3ms/step - loss: 0.2019 - accuracy: 0.3467 - val_loss: 0.2017 - val_accuracy: 0.3970\n",
            "Epoch 134/300\n",
            "1280/1280 [==============================] - 3s 3ms/step - loss: 0.2013 - accuracy: 0.3381 - val_loss: 0.2012 - val_accuracy: 0.2868\n",
            "Epoch 135/300\n",
            "1280/1280 [==============================] - 3s 2ms/step - loss: 0.2009 - accuracy: 0.3404 - val_loss: 0.2009 - val_accuracy: 0.2874\n",
            "Epoch 136/300\n",
            "1280/1280 [==============================] - 3s 3ms/step - loss: 0.2006 - accuracy: 0.3372 - val_loss: 0.2006 - val_accuracy: 0.3966\n",
            "Epoch 137/300\n",
            "1280/1280 [==============================] - 3s 2ms/step - loss: 0.2003 - accuracy: 0.3422 - val_loss: 0.2003 - val_accuracy: 0.3001\n",
            "Epoch 138/300\n",
            "1280/1280 [==============================] - 3s 2ms/step - loss: 0.2000 - accuracy: 0.3432 - val_loss: 0.2000 - val_accuracy: 0.3051\n",
            "Epoch 139/300\n",
            "1280/1280 [==============================] - 3s 3ms/step - loss: 0.1998 - accuracy: 0.3467 - val_loss: 0.1998 - val_accuracy: 0.3963\n",
            "Epoch 140/300\n",
            "1280/1280 [==============================] - 3s 2ms/step - loss: 0.1995 - accuracy: 0.3510 - val_loss: 0.1995 - val_accuracy: 0.3193\n",
            "Epoch 141/300\n",
            "1280/1280 [==============================] - 3s 3ms/step - loss: 0.1993 - accuracy: 0.3459 - val_loss: 0.1993 - val_accuracy: 0.3236\n",
            "Epoch 142/300\n",
            "1280/1280 [==============================] - 3s 2ms/step - loss: 0.1991 - accuracy: 0.3474 - val_loss: 0.1990 - val_accuracy: 0.3290\n",
            "Epoch 143/300\n",
            "1280/1280 [==============================] - 3s 2ms/step - loss: 0.1988 - accuracy: 0.3484 - val_loss: 0.1988 - val_accuracy: 0.3362\n",
            "Epoch 144/300\n",
            "1280/1280 [==============================] - 3s 3ms/step - loss: 0.1986 - accuracy: 0.3481 - val_loss: 0.1986 - val_accuracy: 0.3432\n",
            "Epoch 145/300\n",
            "1280/1280 [==============================] - 3s 3ms/step - loss: 0.1983 - accuracy: 0.3500 - val_loss: 0.1983 - val_accuracy: 0.3455\n",
            "Epoch 146/300\n",
            "1280/1280 [==============================] - 3s 3ms/step - loss: 0.1981 - accuracy: 0.3509 - val_loss: 0.1981 - val_accuracy: 0.4005\n",
            "Epoch 147/300\n",
            "1280/1280 [==============================] - 3s 3ms/step - loss: 0.1979 - accuracy: 0.3559 - val_loss: 0.1978 - val_accuracy: 0.3993\n",
            "Epoch 148/300\n",
            "1280/1280 [==============================] - 3s 3ms/step - loss: 0.1977 - accuracy: 0.3546 - val_loss: 0.1976 - val_accuracy: 0.3525\n",
            "Epoch 149/300\n",
            "1280/1280 [==============================] - 3s 3ms/step - loss: 0.1974 - accuracy: 0.3568 - val_loss: 0.1974 - val_accuracy: 0.3557\n",
            "Epoch 150/300\n",
            "1280/1280 [==============================] - 3s 3ms/step - loss: 0.1972 - accuracy: 0.3597 - val_loss: 0.1972 - val_accuracy: 0.3561\n",
            "Epoch 151/300\n",
            "1280/1280 [==============================] - 3s 2ms/step - loss: 0.1970 - accuracy: 0.3582 - val_loss: 0.1970 - val_accuracy: 0.3555\n",
            "Epoch 152/300\n",
            "1280/1280 [==============================] - 3s 2ms/step - loss: 0.1968 - accuracy: 0.3585 - val_loss: 0.1967 - val_accuracy: 0.3568\n",
            "Epoch 153/300\n",
            "1280/1280 [==============================] - 3s 2ms/step - loss: 0.1966 - accuracy: 0.3609 - val_loss: 0.1965 - val_accuracy: 0.3592\n",
            "Epoch 154/300\n",
            "1280/1280 [==============================] - 3s 3ms/step - loss: 0.1964 - accuracy: 0.3643 - val_loss: 0.1964 - val_accuracy: 0.3633\n",
            "Epoch 155/300\n",
            "1280/1280 [==============================] - 4s 3ms/step - loss: 0.1962 - accuracy: 0.3673 - val_loss: 0.1961 - val_accuracy: 0.3668\n",
            "Epoch 156/300\n",
            "1280/1280 [==============================] - 3s 3ms/step - loss: 0.1960 - accuracy: 0.3688 - val_loss: 0.1959 - val_accuracy: 0.3681\n",
            "Epoch 157/300\n",
            "1280/1280 [==============================] - 3s 3ms/step - loss: 0.1958 - accuracy: 0.3702 - val_loss: 0.1958 - val_accuracy: 0.3685\n",
            "Epoch 158/300\n",
            "1280/1280 [==============================] - 3s 3ms/step - loss: 0.1956 - accuracy: 0.3706 - val_loss: 0.1955 - val_accuracy: 0.3696\n",
            "Epoch 159/300\n",
            "1280/1280 [==============================] - 3s 2ms/step - loss: 0.1954 - accuracy: 0.3719 - val_loss: 0.1954 - val_accuracy: 0.3694\n",
            "Epoch 160/300\n",
            "1280/1280 [==============================] - 3s 2ms/step - loss: 0.1953 - accuracy: 0.3716 - val_loss: 0.1952 - val_accuracy: 0.3700\n",
            "Epoch 161/300\n",
            "1280/1280 [==============================] - 3s 3ms/step - loss: 0.1951 - accuracy: 0.3715 - val_loss: 0.1950 - val_accuracy: 0.3707\n",
            "Epoch 162/300\n",
            "1280/1280 [==============================] - 3s 3ms/step - loss: 0.1949 - accuracy: 0.3726 - val_loss: 0.1948 - val_accuracy: 0.3702\n",
            "Epoch 163/300\n",
            "1280/1280 [==============================] - 3s 3ms/step - loss: 0.1947 - accuracy: 0.3731 - val_loss: 0.1947 - val_accuracy: 0.3719\n",
            "Epoch 164/300\n",
            "1280/1280 [==============================] - 3s 2ms/step - loss: 0.1946 - accuracy: 0.3742 - val_loss: 0.1945 - val_accuracy: 0.3711\n",
            "Epoch 165/300\n",
            "1280/1280 [==============================] - 4s 3ms/step - loss: 0.1944 - accuracy: 0.3748 - val_loss: 0.1943 - val_accuracy: 0.3725\n",
            "Epoch 166/300\n",
            "1280/1280 [==============================] - 3s 2ms/step - loss: 0.1942 - accuracy: 0.3753 - val_loss: 0.1942 - val_accuracy: 0.3740\n",
            "Epoch 167/300\n",
            "1280/1280 [==============================] - 3s 2ms/step - loss: 0.1940 - accuracy: 0.3764 - val_loss: 0.1940 - val_accuracy: 0.3754\n",
            "Epoch 168/300\n",
            "1280/1280 [==============================] - 3s 2ms/step - loss: 0.1939 - accuracy: 0.3761 - val_loss: 0.1938 - val_accuracy: 0.3739\n",
            "Epoch 169/300\n",
            "1280/1280 [==============================] - 3s 2ms/step - loss: 0.1937 - accuracy: 0.3772 - val_loss: 0.1936 - val_accuracy: 0.3734\n",
            "Epoch 170/300\n",
            "1280/1280 [==============================] - 3s 3ms/step - loss: 0.1935 - accuracy: 0.3774 - val_loss: 0.1935 - val_accuracy: 0.3774\n",
            "Epoch 171/300\n",
            "1280/1280 [==============================] - 3s 3ms/step - loss: 0.1934 - accuracy: 0.3784 - val_loss: 0.1933 - val_accuracy: 0.3773\n",
            "Epoch 172/300\n",
            "1280/1280 [==============================] - 3s 3ms/step - loss: 0.1932 - accuracy: 0.3782 - val_loss: 0.1931 - val_accuracy: 0.3767\n",
            "Epoch 173/300\n",
            "1280/1280 [==============================] - 3s 2ms/step - loss: 0.1931 - accuracy: 0.3794 - val_loss: 0.1930 - val_accuracy: 0.3777\n",
            "Epoch 174/300\n",
            "1280/1280 [==============================] - 4s 3ms/step - loss: 0.1929 - accuracy: 0.3802 - val_loss: 0.1928 - val_accuracy: 0.3781\n",
            "Epoch 175/300\n",
            "1280/1280 [==============================] - 3s 2ms/step - loss: 0.1928 - accuracy: 0.3809 - val_loss: 0.1927 - val_accuracy: 0.3786\n",
            "Epoch 176/300\n",
            "1280/1280 [==============================] - 3s 2ms/step - loss: 0.1926 - accuracy: 0.3814 - val_loss: 0.1925 - val_accuracy: 0.3791\n",
            "Epoch 177/300\n",
            "1280/1280 [==============================] - 3s 2ms/step - loss: 0.1925 - accuracy: 0.3820 - val_loss: 0.1924 - val_accuracy: 0.3788\n",
            "Epoch 178/300\n",
            "1280/1280 [==============================] - 3s 3ms/step - loss: 0.1923 - accuracy: 0.3822 - val_loss: 0.1922 - val_accuracy: 0.3800\n",
            "Epoch 179/300\n",
            "1280/1280 [==============================] - 3s 3ms/step - loss: 0.1922 - accuracy: 0.3833 - val_loss: 0.1921 - val_accuracy: 0.3789\n",
            "Epoch 180/300\n",
            "1280/1280 [==============================] - 3s 3ms/step - loss: 0.1920 - accuracy: 0.3832 - val_loss: 0.1919 - val_accuracy: 0.3817\n",
            "Epoch 181/300\n",
            "1280/1280 [==============================] - 3s 2ms/step - loss: 0.1919 - accuracy: 0.3844 - val_loss: 0.1918 - val_accuracy: 0.3826\n",
            "Epoch 182/300\n",
            "1280/1280 [==============================] - 3s 3ms/step - loss: 0.1918 - accuracy: 0.3845 - val_loss: 0.1916 - val_accuracy: 0.3824\n",
            "Epoch 183/300\n",
            "1280/1280 [==============================] - 3s 3ms/step - loss: 0.1916 - accuracy: 0.3848 - val_loss: 0.1915 - val_accuracy: 0.3829\n",
            "Epoch 184/300\n",
            "1280/1280 [==============================] - 3s 3ms/step - loss: 0.1915 - accuracy: 0.3854 - val_loss: 0.1914 - val_accuracy: 0.3830\n",
            "Epoch 185/300\n",
            "1280/1280 [==============================] - 3s 3ms/step - loss: 0.1914 - accuracy: 0.3859 - val_loss: 0.1912 - val_accuracy: 0.3836\n",
            "Epoch 186/300\n",
            "1280/1280 [==============================] - 4s 3ms/step - loss: 0.1912 - accuracy: 0.3868 - val_loss: 0.1911 - val_accuracy: 0.3841\n",
            "Epoch 187/300\n",
            "1280/1280 [==============================] - 4s 3ms/step - loss: 0.1911 - accuracy: 0.3870 - val_loss: 0.1910 - val_accuracy: 0.3842\n",
            "Epoch 188/300\n",
            "1280/1280 [==============================] - 3s 2ms/step - loss: 0.1910 - accuracy: 0.3874 - val_loss: 0.1909 - val_accuracy: 0.3854\n",
            "Epoch 189/300\n",
            "1280/1280 [==============================] - 3s 3ms/step - loss: 0.1908 - accuracy: 0.3881 - val_loss: 0.1907 - val_accuracy: 0.3856\n",
            "Epoch 190/300\n",
            "1280/1280 [==============================] - 4s 3ms/step - loss: 0.1907 - accuracy: 0.3890 - val_loss: 0.1906 - val_accuracy: 0.3861\n",
            "Epoch 191/300\n",
            "1280/1280 [==============================] - 4s 3ms/step - loss: 0.1906 - accuracy: 0.3896 - val_loss: 0.1904 - val_accuracy: 0.3873\n",
            "Epoch 192/300\n",
            "1280/1280 [==============================] - 4s 3ms/step - loss: 0.1905 - accuracy: 0.3904 - val_loss: 0.1904 - val_accuracy: 0.3873\n",
            "Epoch 193/300\n",
            "1280/1280 [==============================] - 4s 3ms/step - loss: 0.1903 - accuracy: 0.3906 - val_loss: 0.1902 - val_accuracy: 0.3879\n",
            "Epoch 194/300\n",
            "1280/1280 [==============================] - 4s 3ms/step - loss: 0.1902 - accuracy: 0.3913 - val_loss: 0.1901 - val_accuracy: 0.3880\n",
            "Epoch 195/300\n",
            "1280/1280 [==============================] - 3s 3ms/step - loss: 0.1901 - accuracy: 0.3916 - val_loss: 0.1901 - val_accuracy: 0.3885\n",
            "Epoch 196/300\n",
            "1280/1280 [==============================] - 3s 3ms/step - loss: 0.1900 - accuracy: 0.3921 - val_loss: 0.1898 - val_accuracy: 0.3896\n",
            "Epoch 197/300\n",
            "1280/1280 [==============================] - 3s 2ms/step - loss: 0.1899 - accuracy: 0.3930 - val_loss: 0.1897 - val_accuracy: 0.3899\n",
            "Epoch 198/300\n",
            "1280/1280 [==============================] - 4s 3ms/step - loss: 0.1897 - accuracy: 0.3934 - val_loss: 0.1896 - val_accuracy: 0.3905\n",
            "Epoch 199/300\n",
            "1280/1280 [==============================] - 3s 3ms/step - loss: 0.1896 - accuracy: 0.3943 - val_loss: 0.1895 - val_accuracy: 0.3908\n",
            "Epoch 200/300\n",
            "1280/1280 [==============================] - 3s 3ms/step - loss: 0.1895 - accuracy: 0.3953 - val_loss: 0.1894 - val_accuracy: 0.3927\n",
            "Epoch 201/300\n",
            "1280/1280 [==============================] - 3s 3ms/step - loss: 0.1894 - accuracy: 0.3963 - val_loss: 0.1892 - val_accuracy: 0.3938\n",
            "Epoch 202/300\n",
            "1280/1280 [==============================] - 3s 2ms/step - loss: 0.1893 - accuracy: 0.3970 - val_loss: 0.1892 - val_accuracy: 0.3939\n",
            "Epoch 203/300\n",
            "1280/1280 [==============================] - 3s 3ms/step - loss: 0.1892 - accuracy: 0.3973 - val_loss: 0.1890 - val_accuracy: 0.3944\n",
            "Epoch 204/300\n",
            "1280/1280 [==============================] - 3s 3ms/step - loss: 0.1891 - accuracy: 0.3981 - val_loss: 0.1890 - val_accuracy: 0.3952\n",
            "Epoch 205/300\n",
            "1280/1280 [==============================] - 3s 2ms/step - loss: 0.1889 - accuracy: 0.3986 - val_loss: 0.1888 - val_accuracy: 0.3960\n",
            "Epoch 206/300\n",
            "1280/1280 [==============================] - 3s 3ms/step - loss: 0.1888 - accuracy: 0.3995 - val_loss: 0.1887 - val_accuracy: 0.3965\n",
            "Epoch 207/300\n",
            "1280/1280 [==============================] - 3s 3ms/step - loss: 0.1887 - accuracy: 0.3994 - val_loss: 0.1886 - val_accuracy: 0.3966\n",
            "Epoch 208/300\n",
            "1280/1280 [==============================] - 3s 3ms/step - loss: 0.1885 - accuracy: 0.3995 - val_loss: 0.1881 - val_accuracy: 0.3936\n",
            "Epoch 209/300\n",
            "1280/1280 [==============================] - 3s 3ms/step - loss: 0.1878 - accuracy: 0.3954 - val_loss: 0.1874 - val_accuracy: 0.3880\n",
            "Epoch 210/300\n",
            "1280/1280 [==============================] - 4s 3ms/step - loss: 0.1871 - accuracy: 0.3877 - val_loss: 0.1867 - val_accuracy: 0.3765\n",
            "Epoch 211/300\n",
            "1280/1280 [==============================] - 3s 3ms/step - loss: 0.1865 - accuracy: 0.3718 - val_loss: 0.1861 - val_accuracy: 0.3531\n",
            "Epoch 212/300\n",
            "1280/1280 [==============================] - 3s 2ms/step - loss: 0.1858 - accuracy: 0.3399 - val_loss: 0.1855 - val_accuracy: 0.3120\n",
            "Epoch 213/300\n",
            "1280/1280 [==============================] - 3s 2ms/step - loss: 0.1852 - accuracy: 0.2962 - val_loss: 0.1848 - val_accuracy: 0.2767\n",
            "Epoch 214/300\n",
            "1280/1280 [==============================] - 3s 2ms/step - loss: 0.1846 - accuracy: 0.2681 - val_loss: 0.1842 - val_accuracy: 0.2492\n",
            "Epoch 215/300\n",
            "1280/1280 [==============================] - 3s 3ms/step - loss: 0.1840 - accuracy: 0.2431 - val_loss: 0.1836 - val_accuracy: 0.2273\n",
            "Epoch 216/300\n",
            "1280/1280 [==============================] - 3s 3ms/step - loss: 0.1834 - accuracy: 0.2288 - val_loss: 0.1830 - val_accuracy: 0.2176\n",
            "Epoch 217/300\n",
            "1280/1280 [==============================] - 3s 3ms/step - loss: 0.1828 - accuracy: 0.2218 - val_loss: 0.1824 - val_accuracy: 0.2127\n",
            "Epoch 218/300\n",
            "1280/1280 [==============================] - 3s 2ms/step - loss: 0.1822 - accuracy: 0.2178 - val_loss: 0.1819 - val_accuracy: 0.2106\n",
            "Epoch 219/300\n",
            "1280/1280 [==============================] - 3s 2ms/step - loss: 0.1816 - accuracy: 0.2163 - val_loss: 0.1814 - val_accuracy: 0.2091\n",
            "Epoch 220/300\n",
            "1280/1280 [==============================] - 3s 3ms/step - loss: 0.1811 - accuracy: 0.2154 - val_loss: 0.1808 - val_accuracy: 0.2095\n",
            "Epoch 221/300\n",
            "1280/1280 [==============================] - 4s 3ms/step - loss: 0.1806 - accuracy: 0.2160 - val_loss: 0.1802 - val_accuracy: 0.2125\n",
            "Epoch 222/300\n",
            "1280/1280 [==============================] - 3s 3ms/step - loss: 0.1801 - accuracy: 0.2191 - val_loss: 0.1798 - val_accuracy: 0.2169\n",
            "Epoch 223/300\n",
            "1280/1280 [==============================] - 3s 3ms/step - loss: 0.1797 - accuracy: 0.2281 - val_loss: 0.1795 - val_accuracy: 0.2402\n",
            "Epoch 224/300\n",
            "1280/1280 [==============================] - 3s 3ms/step - loss: 0.1795 - accuracy: 0.2706 - val_loss: 0.1793 - val_accuracy: 0.2828\n",
            "Epoch 225/300\n",
            "1280/1280 [==============================] - 3s 2ms/step - loss: 0.1793 - accuracy: 0.3082 - val_loss: 0.1792 - val_accuracy: 0.3201\n",
            "Epoch 226/300\n",
            "1280/1280 [==============================] - 3s 2ms/step - loss: 0.1792 - accuracy: 0.3380 - val_loss: 0.1791 - val_accuracy: 0.3420\n",
            "Epoch 227/300\n",
            "1280/1280 [==============================] - 3s 2ms/step - loss: 0.1791 - accuracy: 0.3549 - val_loss: 0.1790 - val_accuracy: 0.3563\n",
            "Epoch 228/300\n",
            "1280/1280 [==============================] - 3s 2ms/step - loss: 0.1790 - accuracy: 0.3648 - val_loss: 0.1789 - val_accuracy: 0.3634\n",
            "Epoch 229/300\n",
            "1280/1280 [==============================] - 3s 2ms/step - loss: 0.1789 - accuracy: 0.3739 - val_loss: 0.1788 - val_accuracy: 0.3739\n",
            "Epoch 230/300\n",
            "1280/1280 [==============================] - 3s 2ms/step - loss: 0.1788 - accuracy: 0.3823 - val_loss: 0.1787 - val_accuracy: 0.3799\n",
            "Epoch 231/300\n",
            "1280/1280 [==============================] - 3s 3ms/step - loss: 0.1787 - accuracy: 0.3857 - val_loss: 0.1786 - val_accuracy: 0.3834\n",
            "Epoch 232/300\n",
            "1280/1280 [==============================] - 3s 3ms/step - loss: 0.1786 - accuracy: 0.3887 - val_loss: 0.1785 - val_accuracy: 0.3861\n",
            "Epoch 233/300\n",
            "1280/1280 [==============================] - 3s 2ms/step - loss: 0.1785 - accuracy: 0.3909 - val_loss: 0.1784 - val_accuracy: 0.3891\n",
            "Epoch 234/300\n",
            "1280/1280 [==============================] - 3s 3ms/step - loss: 0.1784 - accuracy: 0.3921 - val_loss: 0.1783 - val_accuracy: 0.3910\n",
            "Epoch 235/300\n",
            "1280/1280 [==============================] - 3s 3ms/step - loss: 0.1783 - accuracy: 0.3937 - val_loss: 0.1782 - val_accuracy: 0.3919\n",
            "Epoch 236/300\n",
            "1280/1280 [==============================] - 3s 2ms/step - loss: 0.1782 - accuracy: 0.3949 - val_loss: 0.1781 - val_accuracy: 0.3934\n",
            "Epoch 237/300\n",
            "1280/1280 [==============================] - 3s 3ms/step - loss: 0.1781 - accuracy: 0.3969 - val_loss: 0.1780 - val_accuracy: 0.3968\n",
            "Epoch 238/300\n",
            "1280/1280 [==============================] - 3s 2ms/step - loss: 0.1780 - accuracy: 0.3990 - val_loss: 0.1779 - val_accuracy: 0.3978\n",
            "Epoch 239/300\n",
            "1280/1280 [==============================] - 3s 3ms/step - loss: 0.1779 - accuracy: 0.3999 - val_loss: 0.1779 - val_accuracy: 0.3983\n",
            "Epoch 240/300\n",
            "1280/1280 [==============================] - 3s 3ms/step - loss: 0.1779 - accuracy: 0.4006 - val_loss: 0.1778 - val_accuracy: 0.3992\n",
            "Epoch 241/300\n",
            "1280/1280 [==============================] - 4s 3ms/step - loss: 0.1778 - accuracy: 0.4012 - val_loss: 0.1777 - val_accuracy: 0.3993\n",
            "Epoch 242/300\n",
            "1280/1280 [==============================] - 3s 3ms/step - loss: 0.1777 - accuracy: 0.4019 - val_loss: 0.1777 - val_accuracy: 0.3995\n",
            "Epoch 243/300\n",
            "1280/1280 [==============================] - 3s 3ms/step - loss: 0.1776 - accuracy: 0.4021 - val_loss: 0.1776 - val_accuracy: 0.3998\n",
            "Epoch 244/300\n",
            "1280/1280 [==============================] - 3s 3ms/step - loss: 0.1776 - accuracy: 0.4026 - val_loss: 0.1775 - val_accuracy: 0.4003\n",
            "Epoch 245/300\n",
            "1280/1280 [==============================] - 3s 3ms/step - loss: 0.1775 - accuracy: 0.4030 - val_loss: 0.1774 - val_accuracy: 0.4007\n",
            "Epoch 246/300\n",
            "1280/1280 [==============================] - 3s 2ms/step - loss: 0.1774 - accuracy: 0.4035 - val_loss: 0.1774 - val_accuracy: 0.4013\n",
            "Epoch 247/300\n",
            "1280/1280 [==============================] - 3s 3ms/step - loss: 0.1773 - accuracy: 0.4039 - val_loss: 0.1773 - val_accuracy: 0.4015\n",
            "Epoch 248/300\n",
            "1280/1280 [==============================] - 3s 2ms/step - loss: 0.1773 - accuracy: 0.4047 - val_loss: 0.1773 - val_accuracy: 0.4025\n",
            "Epoch 249/300\n",
            "1280/1280 [==============================] - 3s 2ms/step - loss: 0.1772 - accuracy: 0.4062 - val_loss: 0.1772 - val_accuracy: 0.4031\n",
            "Epoch 250/300\n",
            "1280/1280 [==============================] - 3s 3ms/step - loss: 0.1771 - accuracy: 0.4068 - val_loss: 0.1771 - val_accuracy: 0.4038\n",
            "Epoch 251/300\n",
            "1280/1280 [==============================] - 3s 3ms/step - loss: 0.1771 - accuracy: 0.4075 - val_loss: 0.1770 - val_accuracy: 0.4044\n",
            "Epoch 252/300\n",
            "1280/1280 [==============================] - 3s 2ms/step - loss: 0.1770 - accuracy: 0.4081 - val_loss: 0.1770 - val_accuracy: 0.4053\n",
            "Epoch 253/300\n",
            "1280/1280 [==============================] - 3s 3ms/step - loss: 0.1769 - accuracy: 0.4085 - val_loss: 0.1769 - val_accuracy: 0.4056\n",
            "Epoch 254/300\n",
            "1280/1280 [==============================] - 3s 2ms/step - loss: 0.1768 - accuracy: 0.4087 - val_loss: 0.1768 - val_accuracy: 0.4058\n",
            "Epoch 255/300\n",
            "1280/1280 [==============================] - 3s 2ms/step - loss: 0.1768 - accuracy: 0.4092 - val_loss: 0.1768 - val_accuracy: 0.4064\n",
            "Epoch 256/300\n",
            "1280/1280 [==============================] - 3s 2ms/step - loss: 0.1767 - accuracy: 0.4093 - val_loss: 0.1767 - val_accuracy: 0.4069\n",
            "Epoch 257/300\n",
            "1280/1280 [==============================] - 3s 3ms/step - loss: 0.1766 - accuracy: 0.4102 - val_loss: 0.1766 - val_accuracy: 0.4085\n",
            "Epoch 258/300\n",
            "1280/1280 [==============================] - 3s 2ms/step - loss: 0.1766 - accuracy: 0.4109 - val_loss: 0.1765 - val_accuracy: 0.4093\n",
            "Epoch 259/300\n",
            "1280/1280 [==============================] - 3s 2ms/step - loss: 0.1765 - accuracy: 0.4122 - val_loss: 0.1765 - val_accuracy: 0.4109\n",
            "Epoch 260/300\n",
            "1280/1280 [==============================] - 3s 2ms/step - loss: 0.1764 - accuracy: 0.4129 - val_loss: 0.1764 - val_accuracy: 0.4122\n",
            "Epoch 261/300\n",
            "1280/1280 [==============================] - 3s 2ms/step - loss: 0.1764 - accuracy: 0.4134 - val_loss: 0.1764 - val_accuracy: 0.4124\n",
            "Epoch 262/300\n",
            "1280/1280 [==============================] - 3s 3ms/step - loss: 0.1763 - accuracy: 0.4138 - val_loss: 0.1763 - val_accuracy: 0.4126\n",
            "Epoch 263/300\n",
            "1280/1280 [==============================] - 3s 2ms/step - loss: 0.1762 - accuracy: 0.4140 - val_loss: 0.1762 - val_accuracy: 0.4129\n",
            "Epoch 264/300\n",
            "1280/1280 [==============================] - 3s 2ms/step - loss: 0.1762 - accuracy: 0.4144 - val_loss: 0.1762 - val_accuracy: 0.4129\n",
            "Epoch 265/300\n",
            "1280/1280 [==============================] - 3s 3ms/step - loss: 0.1761 - accuracy: 0.4146 - val_loss: 0.1761 - val_accuracy: 0.4133\n",
            "Epoch 266/300\n",
            "1280/1280 [==============================] - 3s 3ms/step - loss: 0.1760 - accuracy: 0.4149 - val_loss: 0.1760 - val_accuracy: 0.4133\n",
            "Epoch 267/300\n",
            "1280/1280 [==============================] - 3s 3ms/step - loss: 0.1760 - accuracy: 0.4154 - val_loss: 0.1760 - val_accuracy: 0.4132\n",
            "Epoch 268/300\n",
            "1280/1280 [==============================] - 3s 3ms/step - loss: 0.1759 - accuracy: 0.4158 - val_loss: 0.1759 - val_accuracy: 0.4134\n",
            "Epoch 269/300\n",
            "1280/1280 [==============================] - 3s 2ms/step - loss: 0.1758 - accuracy: 0.4160 - val_loss: 0.1758 - val_accuracy: 0.4138\n",
            "Epoch 270/300\n",
            "1280/1280 [==============================] - 3s 2ms/step - loss: 0.1757 - accuracy: 0.4165 - val_loss: 0.1757 - val_accuracy: 0.4143\n",
            "Epoch 271/300\n",
            "1280/1280 [==============================] - 3s 2ms/step - loss: 0.1756 - accuracy: 0.4169 - val_loss: 0.1757 - val_accuracy: 0.4141\n",
            "Epoch 272/300\n",
            "1280/1280 [==============================] - 3s 3ms/step - loss: 0.1753 - accuracy: 0.4155 - val_loss: 0.1750 - val_accuracy: 0.4116\n",
            "Epoch 273/300\n",
            "1280/1280 [==============================] - 3s 2ms/step - loss: 0.1745 - accuracy: 0.4083 - val_loss: 0.1742 - val_accuracy: 0.4025\n",
            "Epoch 274/300\n",
            "1280/1280 [==============================] - 3s 2ms/step - loss: 0.1737 - accuracy: 0.3972 - val_loss: 0.1734 - val_accuracy: 0.3618\n",
            "Epoch 275/300\n",
            "1280/1280 [==============================] - 3s 3ms/step - loss: 0.1728 - accuracy: 0.1848 - val_loss: 0.1726 - val_accuracy: 0.1401\n",
            "Epoch 276/300\n",
            "1280/1280 [==============================] - 3s 3ms/step - loss: 0.1720 - accuracy: 0.1353 - val_loss: 0.1718 - val_accuracy: 0.1299\n",
            "Epoch 277/300\n",
            "1280/1280 [==============================] - 3s 3ms/step - loss: 0.1712 - accuracy: 0.1338 - val_loss: 0.1710 - val_accuracy: 0.1290\n",
            "Epoch 278/300\n",
            "1280/1280 [==============================] - 3s 3ms/step - loss: 0.1705 - accuracy: 0.1330 - val_loss: 0.1702 - val_accuracy: 0.1289\n",
            "Epoch 279/300\n",
            "1280/1280 [==============================] - 3s 3ms/step - loss: 0.1697 - accuracy: 0.1333 - val_loss: 0.1695 - val_accuracy: 0.1305\n",
            "Epoch 280/300\n",
            "1280/1280 [==============================] - 3s 3ms/step - loss: 0.1690 - accuracy: 0.1364 - val_loss: 0.1689 - val_accuracy: 0.1360\n",
            "Epoch 281/300\n",
            "1280/1280 [==============================] - 4s 3ms/step - loss: 0.1683 - accuracy: 0.1436 - val_loss: 0.1682 - val_accuracy: 0.1463\n",
            "Epoch 282/300\n",
            "1280/1280 [==============================] - 3s 3ms/step - loss: 0.1677 - accuracy: 0.1528 - val_loss: 0.1676 - val_accuracy: 0.1531\n",
            "Epoch 283/300\n",
            "1280/1280 [==============================] - 4s 3ms/step - loss: 0.1671 - accuracy: 0.1547 - val_loss: 0.1670 - val_accuracy: 0.1650\n",
            "Epoch 284/300\n",
            "1280/1280 [==============================] - 3s 3ms/step - loss: 0.1665 - accuracy: 0.1771 - val_loss: 0.1665 - val_accuracy: 0.1886\n",
            "Epoch 285/300\n",
            "1280/1280 [==============================] - 3s 3ms/step - loss: 0.1662 - accuracy: 0.2381 - val_loss: 0.1664 - val_accuracy: 0.2880\n",
            "Epoch 286/300\n",
            "1280/1280 [==============================] - 3s 3ms/step - loss: 0.1661 - accuracy: 0.3226 - val_loss: 0.1663 - val_accuracy: 0.3516\n",
            "Epoch 287/300\n",
            "1280/1280 [==============================] - 3s 2ms/step - loss: 0.1661 - accuracy: 0.3663 - val_loss: 0.1663 - val_accuracy: 0.3734\n",
            "Epoch 288/300\n",
            "1280/1280 [==============================] - 3s 3ms/step - loss: 0.1660 - accuracy: 0.3809 - val_loss: 0.1662 - val_accuracy: 0.3825\n",
            "Epoch 289/300\n",
            "1280/1280 [==============================] - 4s 3ms/step - loss: 0.1659 - accuracy: 0.3889 - val_loss: 0.1661 - val_accuracy: 0.3887\n",
            "Epoch 290/300\n",
            "1280/1280 [==============================] - 4s 3ms/step - loss: 0.1659 - accuracy: 0.3965 - val_loss: 0.1661 - val_accuracy: 0.3984\n",
            "Epoch 291/300\n",
            "1280/1280 [==============================] - 3s 3ms/step - loss: 0.1658 - accuracy: 0.4007 - val_loss: 0.1661 - val_accuracy: 0.4032\n",
            "Epoch 292/300\n",
            "1280/1280 [==============================] - 3s 3ms/step - loss: 0.1658 - accuracy: 0.4056 - val_loss: 0.1660 - val_accuracy: 0.4069\n",
            "Epoch 293/300\n",
            "1280/1280 [==============================] - 3s 2ms/step - loss: 0.1657 - accuracy: 0.4075 - val_loss: 0.1659 - val_accuracy: 0.4099\n",
            "Epoch 294/300\n",
            "1280/1280 [==============================] - 3s 3ms/step - loss: 0.1656 - accuracy: 0.4097 - val_loss: 0.1659 - val_accuracy: 0.4084\n",
            "Epoch 295/300\n",
            "1280/1280 [==============================] - 4s 3ms/step - loss: 0.1656 - accuracy: 0.4101 - val_loss: 0.1658 - val_accuracy: 0.4117\n",
            "Epoch 296/300\n",
            "1280/1280 [==============================] - 4s 3ms/step - loss: 0.1655 - accuracy: 0.4116 - val_loss: 0.1658 - val_accuracy: 0.4125\n",
            "Epoch 297/300\n",
            "1280/1280 [==============================] - 3s 3ms/step - loss: 0.1655 - accuracy: 0.4123 - val_loss: 0.1657 - val_accuracy: 0.4137\n",
            "Epoch 298/300\n",
            "1280/1280 [==============================] - 3s 3ms/step - loss: 0.1654 - accuracy: 0.4139 - val_loss: 0.1656 - val_accuracy: 0.4156\n",
            "Epoch 299/300\n",
            "1280/1280 [==============================] - 3s 2ms/step - loss: 0.1654 - accuracy: 0.4156 - val_loss: 0.1656 - val_accuracy: 0.4159\n",
            "Epoch 300/300\n",
            "1280/1280 [==============================] - 3s 3ms/step - loss: 0.1653 - accuracy: 0.4158 - val_loss: 0.1655 - val_accuracy: 0.4164\n"
          ]
        }
      ]
    },
    {
      "cell_type": "code",
      "source": [
        "ae_classifier = tf.keras.Sequential([\n",
        "    Input(shape=(52,)),\n",
        "    ae_model_f.layers[0],\n",
        "    ae_model_f.layers[1],\n",
        "    ae_model_f.layers[2],\n",
        "    Dense(1, activation='sigmoid')\n",
        "])\n",
        "\n",
        "ae_classifier.summary()"
      ],
      "metadata": {
        "colab": {
          "base_uri": "https://localhost:8080/"
        },
        "id": "zvgKe3BtjQJr",
        "outputId": "1401025d-6e97-4c5b-b1f4-137dfd88cbdc"
      },
      "execution_count": null,
      "outputs": [
        {
          "output_type": "stream",
          "name": "stdout",
          "text": [
            "Model: \"sequential\"\n",
            "_________________________________________________________________\n",
            " Layer (type)                Output Shape              Param #   \n",
            "=================================================================\n",
            " input_1 (InputLayer)        multiple                  0         \n",
            "                                                                 \n",
            " dense (Dense)               (None, 32)                1696      \n",
            "                                                                 \n",
            " dense_1 (Dense)             (None, 16)                528       \n",
            "                                                                 \n",
            " dense_6 (Dense)             (None, 1)                 17        \n",
            "                                                                 \n",
            "=================================================================\n",
            "Total params: 2,241\n",
            "Trainable params: 2,241\n",
            "Non-trainable params: 0\n",
            "_________________________________________________________________\n"
          ]
        }
      ]
    },
    {
      "cell_type": "code",
      "source": [
        "ae_classifier.compile(loss='binary_crossentropy',\n",
        "                      optimizer=Adam(),\n",
        "                      metrics=['accuracy'])\n",
        "\n",
        "ae_history_c = ae_classifier.fit(X_train, y_train,\n",
        "                                 epochs=10,\n",
        "                                 batch_size=32,\n",
        "                                 validation_data=(X_valid, y_valid))"
      ],
      "metadata": {
        "colab": {
          "base_uri": "https://localhost:8080/"
        },
        "id": "6O-SKXh0tgvu",
        "outputId": "755696d4-f461-473d-e850-b3c3c7b2e3ce"
      },
      "execution_count": null,
      "outputs": [
        {
          "output_type": "stream",
          "name": "stdout",
          "text": [
            "Epoch 1/10\n",
            "1280/1280 [==============================] - 5s 3ms/step - loss: 0.1053 - accuracy: 0.9797 - val_loss: 0.0080 - val_accuracy: 0.9975\n",
            "Epoch 2/10\n",
            "1280/1280 [==============================] - 3s 2ms/step - loss: 0.0051 - accuracy: 0.9985 - val_loss: 0.0030 - val_accuracy: 0.9991\n",
            "Epoch 3/10\n",
            "1280/1280 [==============================] - 3s 2ms/step - loss: 0.0029 - accuracy: 0.9990 - val_loss: 0.0016 - val_accuracy: 0.9995\n",
            "Epoch 4/10\n",
            "1280/1280 [==============================] - 3s 2ms/step - loss: 0.0019 - accuracy: 0.9994 - val_loss: 9.2003e-04 - val_accuracy: 0.9995\n",
            "Epoch 5/10\n",
            "1280/1280 [==============================] - 3s 3ms/step - loss: 0.0014 - accuracy: 0.9995 - val_loss: 7.3439e-04 - val_accuracy: 0.9998\n",
            "Epoch 6/10\n",
            "1280/1280 [==============================] - 3s 3ms/step - loss: 8.2858e-04 - accuracy: 0.9998 - val_loss: 3.2956e-04 - val_accuracy: 1.0000\n",
            "Epoch 7/10\n",
            "1280/1280 [==============================] - 4s 3ms/step - loss: 4.0049e-04 - accuracy: 1.0000 - val_loss: 1.4385e-04 - val_accuracy: 1.0000\n",
            "Epoch 8/10\n",
            "1280/1280 [==============================] - 4s 3ms/step - loss: 7.5219e-04 - accuracy: 0.9999 - val_loss: 1.8742e-04 - val_accuracy: 0.9999\n",
            "Epoch 9/10\n",
            "1280/1280 [==============================] - 4s 3ms/step - loss: 2.3329e-04 - accuracy: 1.0000 - val_loss: 1.0841e-04 - val_accuracy: 1.0000\n",
            "Epoch 10/10\n",
            "1280/1280 [==============================] - 3s 3ms/step - loss: 1.8803e-04 - accuracy: 1.0000 - val_loss: 2.1109e-04 - val_accuracy: 1.0000\n"
          ]
        }
      ]
    },
    {
      "cell_type": "code",
      "source": [
        "ae_classifier.save('/content/drive/MyDrive/Univerui/Kursinis/models/aec_model.h5')"
      ],
      "metadata": {
        "id": "O8RCcLFJuNl-"
      },
      "execution_count": null,
      "outputs": []
    },
    {
      "cell_type": "code",
      "source": [
        "plot_loss_curves(ae_history_c)"
      ],
      "metadata": {
        "colab": {
          "base_uri": "https://localhost:8080/",
          "height": 573
        },
        "id": "03S-pyi-uFM1",
        "outputId": "ff5ea27f-fc53-4af6-d43e-03507ba61173"
      },
      "execution_count": null,
      "outputs": [
        {
          "output_type": "display_data",
          "data": {
            "text/plain": [
              "<Figure size 432x288 with 1 Axes>"
            ],
            "image/png": "[encoded data removed]"
          },
          "metadata": {
            "needs_background": "light"
          }
        },
        {
          "output_type": "display_data",
          "data": {
            "text/plain": [
              "<Figure size 432x288 with 1 Axes>"
            ],
            "image/png": "[encoded data removed]"
          },
          "metadata": {
            "needs_background": "light"
          }
        }
      ]
    },
    {
      "cell_type": "code",
      "source": [
        "ae_pred = ae_classifier.predict(X_test)"
      ],
      "metadata": {
        "colab": {
          "base_uri": "https://localhost:8080/"
        },
        "id": "0iAvlCzGt1ex",
        "outputId": "ef19d727-9f3d-42d7-8aba-2198b3b678b8"
      },
      "execution_count": null,
      "outputs": [
        {
          "output_type": "stream",
          "name": "stdout",
          "text": [
            "275/275 [==============================] - 1s 3ms/step\n"
          ]
        }
      ]
    },
    {
      "cell_type": "code",
      "source": [
        "calculate_results(y_test, tf.round(ae_pred))"
      ],
      "metadata": {
        "colab": {
          "base_uri": "https://localhost:8080/"
        },
        "id": "SrqmBLnruDUn",
        "outputId": "4f29b38c-afce-41d1-b57b-237ce6a2d019"
      },
      "execution_count": null,
      "outputs": [
        {
          "output_type": "execute_result",
          "data": {
            "text/plain": [
              "{'accuracy': 100.0, 'precision': 1.0, 'recall': 1.0, 'f1': 1.0}"
            ]
          },
          "metadata": {},
          "execution_count": 20
        }
      ]
    },
    {
      "cell_type": "code",
      "source": [
        "plot_confusion_matrix(y_test, tf.round(ae_pred))"
      ],
      "metadata": {
        "colab": {
          "base_uri": "https://localhost:8080/",
          "height": 389
        },
        "id": "oKiYunl_uVEi",
        "outputId": "f826b745-3b84-4a8a-e9ed-15aacb74d7e6"
      },
      "execution_count": null,
      "outputs": [
        {
          "output_type": "display_data",
          "data": {
            "text/plain": [
              "<Figure size 648x432 with 1 Axes>"
            ],
            "image/png": "[encoded data removed]"
          },
          "metadata": {
            "needs_background": "light"
          }
        }
      ]
    },
    {
      "cell_type": "code",
      "source": [],
      "metadata": {
        "id": "rumvXRBxub1g"
      },
      "execution_count": null,
      "outputs": []
    }
  ]
}