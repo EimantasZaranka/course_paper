{
  "nbformat": 4,
  "nbformat_minor": 0,
  "metadata": {
    "colab": {
      "provenance": []
    },
    "kernelspec": {
      "name": "python3",
      "display_name": "Python 3"
    },
    "language_info": {
      "name": "python"
    }
  },
  "cells": [
    {
      "cell_type": "code",
      "execution_count": 1,
      "metadata": {
        "id": "K6Kdjv5gnjk1"
      },
      "outputs": [],
      "source": [
        "import pandas as pd\n",
        "import numpy as np"
      ]
    },
    {
      "cell_type": "markdown",
      "source": [
        "# Loading data"
      ],
      "metadata": {
        "id": "XiIb99Qpnva_"
      }
    },
    {
      "cell_type": "code",
      "source": [
        "from google.colab import drive\n",
        "drive.mount('/content/gdrive')\n",
        "path = '/content/gdrive/MyDrive/Univerui/Kursinis/'"
      ],
      "metadata": {
        "colab": {
          "base_uri": "https://localhost:8080/"
        },
        "id": "RNlKj1kTnuJ-",
        "outputId": "7639d538-5121-44b3-ccb0-47452935a0ec"
      },
      "execution_count": 2,
      "outputs": [
        {
          "output_type": "stream",
          "name": "stdout",
          "text": [
            "Mounted at /content/gdrive\n"
          ]
        }
      ]
    },
    {
      "cell_type": "code",
      "source": [
        "malmem = pd.read_csv(path + 'Obfuscated-MalMem2022.csv')\n",
        "malmem.head()"
      ],
      "metadata": {
        "colab": {
          "base_uri": "https://localhost:8080/",
          "height": 300
        },
        "id": "HkF4akB3n2AK",
        "outputId": "6b66ed55-0004-4906-d61a-0cb84298e07a"
      },
      "execution_count": 3,
      "outputs": [
        {
          "output_type": "execute_result",
          "data": {
            "text/plain": [
              "  Category  pslist.nproc  pslist.nppid  pslist.avg_threads  \\\n",
              "0   Benign            45            17           10.555556   \n",
              "1   Benign            47            19           11.531915   \n",
              "2   Benign            40            14           14.725000   \n",
              "3   Benign            32            13           13.500000   \n",
              "4   Benign            42            16           11.452381   \n",
              "\n",
              "   pslist.nprocs64bit  pslist.avg_handlers  dlllist.ndlls  \\\n",
              "0                   0           202.844444           1694   \n",
              "1                   0           242.234043           2074   \n",
              "2                   0           288.225000           1932   \n",
              "3                   0           264.281250           1445   \n",
              "4                   0           281.333333           2067   \n",
              "\n",
              "   dlllist.avg_dlls_per_proc  handles.nhandles  handles.avg_handles_per_proc  \\\n",
              "0                  38.500000              9129                    212.302326   \n",
              "1                  44.127660             11385                    242.234043   \n",
              "2                  48.300000             11529                    288.225000   \n",
              "3                  45.156250              8457                    264.281250   \n",
              "4                  49.214286             11816                    281.333333   \n",
              "\n",
              "   ...  svcscan.kernel_drivers  svcscan.fs_drivers  svcscan.process_services  \\\n",
              "0  ...                     221                  26                        24   \n",
              "1  ...                     222                  26                        24   \n",
              "2  ...                     222                  26                        27   \n",
              "3  ...                     222                  26                        27   \n",
              "4  ...                     222                  26                        24   \n",
              "\n",
              "   svcscan.shared_process_services  svcscan.interactive_process_services  \\\n",
              "0                              116                                     0   \n",
              "1                              118                                     0   \n",
              "2                              118                                     0   \n",
              "3                              118                                     0   \n",
              "4                              118                                     0   \n",
              "\n",
              "   svcscan.nactive  callbacks.ncallbacks  callbacks.nanonymous  \\\n",
              "0              121                    87                     0   \n",
              "1              122                    87                     0   \n",
              "2              120                    88                     0   \n",
              "3              120                    88                     0   \n",
              "4              124                    87                     0   \n",
              "\n",
              "   callbacks.ngeneric   Class  \n",
              "0                   8  Benign  \n",
              "1                   8  Benign  \n",
              "2                   8  Benign  \n",
              "3                   8  Benign  \n",
              "4                   8  Benign  \n",
              "\n",
              "[5 rows x 57 columns]"
            ],
            "text/html": [
              "\n",
              "  <div id=\"df-a678b959-76ea-462e-8e0b-44545c16c833\">\n",
              "    <div class=\"colab-df-container\">\n",
              "      <div>\n",
              "<style scoped>\n",
              "    .dataframe tbody tr th:only-of-type {\n",
              "        vertical-align: middle;\n",
              "    }\n",
              "\n",
              "    .dataframe tbody tr th {\n",
              "        vertical-align: top;\n",
              "    }\n",
              "\n",
              "    .dataframe thead th {\n",
              "        text-align: right;\n",
              "    }\n",
              "</style>\n",
              "<table border=\"1\" class=\"dataframe\">\n",
              "  <thead>\n",
              "    <tr style=\"text-align: right;\">\n",
              "      <th></th>\n",
              "      <th>Category</th>\n",
              "      <th>pslist.nproc</th>\n",
              "      <th>pslist.nppid</th>\n",
              "      <th>pslist.avg_threads</th>\n",
              "      <th>pslist.nprocs64bit</th>\n",
              "      <th>pslist.avg_handlers</th>\n",
              "      <th>dlllist.ndlls</th>\n",
              "      <th>dlllist.avg_dlls_per_proc</th>\n",
              "      <th>handles.nhandles</th>\n",
              "      <th>handles.avg_handles_per_proc</th>\n",
              "      <th>...</th>\n",
              "      <th>svcscan.kernel_drivers</th>\n",
              "      <th>svcscan.fs_drivers</th>\n",
              "      <th>svcscan.process_services</th>\n",
              "      <th>svcscan.shared_process_services</th>\n",
              "      <th>svcscan.interactive_process_services</th>\n",
              "      <th>svcscan.nactive</th>\n",
              "      <th>callbacks.ncallbacks</th>\n",
              "      <th>callbacks.nanonymous</th>\n",
              "      <th>callbacks.ngeneric</th>\n",
              "      <th>Class</th>\n",
              "    </tr>\n",
              "  </thead>\n",
              "  <tbody>\n",
              "    <tr>\n",
              "      <th>0</th>\n",
              "      <td>Benign</td>\n",
              "      <td>45</td>\n",
              "      <td>17</td>\n",
              "      <td>10.555556</td>\n",
              "      <td>0</td>\n",
              "      <td>202.844444</td>\n",
              "      <td>1694</td>\n",
              "      <td>38.500000</td>\n",
              "      <td>9129</td>\n",
              "      <td>212.302326</td>\n",
              "      <td>...</td>\n",
              "      <td>221</td>\n",
              "      <td>26</td>\n",
              "      <td>24</td>\n",
              "      <td>116</td>\n",
              "      <td>0</td>\n",
              "      <td>121</td>\n",
              "      <td>87</td>\n",
              "      <td>0</td>\n",
              "      <td>8</td>\n",
              "      <td>Benign</td>\n",
              "    </tr>\n",
              "    <tr>\n",
              "      <th>1</th>\n",
              "      <td>Benign</td>\n",
              "      <td>47</td>\n",
              "      <td>19</td>\n",
              "      <td>11.531915</td>\n",
              "      <td>0</td>\n",
              "      <td>242.234043</td>\n",
              "      <td>2074</td>\n",
              "      <td>44.127660</td>\n",
              "      <td>11385</td>\n",
              "      <td>242.234043</td>\n",
              "      <td>...</td>\n",
              "      <td>222</td>\n",
              "      <td>26</td>\n",
              "      <td>24</td>\n",
              "      <td>118</td>\n",
              "      <td>0</td>\n",
              "      <td>122</td>\n",
              "      <td>87</td>\n",
              "      <td>0</td>\n",
              "      <td>8</td>\n",
              "      <td>Benign</td>\n",
              "    </tr>\n",
              "    <tr>\n",
              "      <th>2</th>\n",
              "      <td>Benign</td>\n",
              "      <td>40</td>\n",
              "      <td>14</td>\n",
              "      <td>14.725000</td>\n",
              "      <td>0</td>\n",
              "      <td>288.225000</td>\n",
              "      <td>1932</td>\n",
              "      <td>48.300000</td>\n",
              "      <td>11529</td>\n",
              "      <td>288.225000</td>\n",
              "      <td>...</td>\n",
              "      <td>222</td>\n",
              "      <td>26</td>\n",
              "      <td>27</td>\n",
              "      <td>118</td>\n",
              "      <td>0</td>\n",
              "      <td>120</td>\n",
              "      <td>88</td>\n",
              "      <td>0</td>\n",
              "      <td>8</td>\n",
              "      <td>Benign</td>\n",
              "    </tr>\n",
              "    <tr>\n",
              "      <th>3</th>\n",
              "      <td>Benign</td>\n",
              "      <td>32</td>\n",
              "      <td>13</td>\n",
              "      <td>13.500000</td>\n",
              "      <td>0</td>\n",
              "      <td>264.281250</td>\n",
              "      <td>1445</td>\n",
              "      <td>45.156250</td>\n",
              "      <td>8457</td>\n",
              "      <td>264.281250</td>\n",
              "      <td>...</td>\n",
              "      <td>222</td>\n",
              "      <td>26</td>\n",
              "      <td>27</td>\n",
              "      <td>118</td>\n",
              "      <td>0</td>\n",
              "      <td>120</td>\n",
              "      <td>88</td>\n",
              "      <td>0</td>\n",
              "      <td>8</td>\n",
              "      <td>Benign</td>\n",
              "    </tr>\n",
              "    <tr>\n",
              "      <th>4</th>\n",
              "      <td>Benign</td>\n",
              "      <td>42</td>\n",
              "      <td>16</td>\n",
              "      <td>11.452381</td>\n",
              "      <td>0</td>\n",
              "      <td>281.333333</td>\n",
              "      <td>2067</td>\n",
              "      <td>49.214286</td>\n",
              "      <td>11816</td>\n",
              "      <td>281.333333</td>\n",
              "      <td>...</td>\n",
              "      <td>222</td>\n",
              "      <td>26</td>\n",
              "      <td>24</td>\n",
              "      <td>118</td>\n",
              "      <td>0</td>\n",
              "      <td>124</td>\n",
              "      <td>87</td>\n",
              "      <td>0</td>\n",
              "      <td>8</td>\n",
              "      <td>Benign</td>\n",
              "    </tr>\n",
              "  </tbody>\n",
              "</table>\n",
              "<p>5 rows × 57 columns</p>\n",
              "</div>\n",
              "      <button class=\"colab-df-convert\" onclick=\"convertToInteractive('df-a678b959-76ea-462e-8e0b-44545c16c833')\"\n",
              "              title=\"Convert this dataframe to an interactive table.\"\n",
              "              style=\"display:none;\">\n",
              "        \n",
              "  <svg xmlns=\"http://www.w3.org/2000/svg\" height=\"24px\"viewBox=\"0 0 24 24\"\n",
              "       width=\"24px\">\n",
              "    <path d=\"M0 0h24v24H0V0z\" fill=\"none\"/>\n",
              "    <path d=\"M18.56 5.44l.94 2.06.94-2.06 2.06-.94-2.06-.94-.94-2.06-.94 2.06-2.06.94zm-11 1L8.5 8.5l.94-2.06 2.06-.94-2.06-.94L8.5 2.5l-.94 2.06-2.06.94zm10 10l.94 2.06.94-2.06 2.06-.94-2.06-.94-.94-2.06-.94 2.06-2.06.94z\"/><path d=\"M17.41 7.96l-1.37-1.37c-.4-.4-.92-.59-1.43-.59-.52 0-1.04.2-1.43.59L10.3 9.45l-7.72 7.72c-.78.78-.78 2.05 0 2.83L4 21.41c.39.39.9.59 1.41.59.51 0 1.02-.2 1.41-.59l7.78-7.78 2.81-2.81c.8-.78.8-2.07 0-2.86zM5.41 20L4 18.59l7.72-7.72 1.47 1.35L5.41 20z\"/>\n",
              "  </svg>\n",
              "      </button>\n",
              "      \n",
              "  <style>\n",
              "    .colab-df-container {\n",
              "      display:flex;\n",
              "      flex-wrap:wrap;\n",
              "      gap: 12px;\n",
              "    }\n",
              "\n",
              "    .colab-df-convert {\n",
              "      background-color: #E8F0FE;\n",
              "      border: none;\n",
              "      border-radius: 50%;\n",
              "      cursor: pointer;\n",
              "      display: none;\n",
              "      fill: #1967D2;\n",
              "      height: 32px;\n",
              "      padding: 0 0 0 0;\n",
              "      width: 32px;\n",
              "    }\n",
              "\n",
              "    .colab-df-convert:hover {\n",
              "      background-color: #E2EBFA;\n",
              "      box-shadow: 0px 1px 2px rgba(60, 64, 67, 0.3), 0px 1px 3px 1px rgba(60, 64, 67, 0.15);\n",
              "      fill: #174EA6;\n",
              "    }\n",
              "\n",
              "    [theme=dark] .colab-df-convert {\n",
              "      background-color: #3B4455;\n",
              "      fill: #D2E3FC;\n",
              "    }\n",
              "\n",
              "    [theme=dark] .colab-df-convert:hover {\n",
              "      background-color: #434B5C;\n",
              "      box-shadow: 0px 1px 3px 1px rgba(0, 0, 0, 0.15);\n",
              "      filter: drop-shadow(0px 1px 2px rgba(0, 0, 0, 0.3));\n",
              "      fill: #FFFFFF;\n",
              "    }\n",
              "  </style>\n",
              "\n",
              "      <script>\n",
              "        const buttonEl =\n",
              "          document.querySelector('#df-a678b959-76ea-462e-8e0b-44545c16c833 button.colab-df-convert');\n",
              "        buttonEl.style.display =\n",
              "          google.colab.kernel.accessAllowed ? 'block' : 'none';\n",
              "\n",
              "        async function convertToInteractive(key) {\n",
              "          const element = document.querySelector('#df-a678b959-76ea-462e-8e0b-44545c16c833');\n",
              "          const dataTable =\n",
              "            await google.colab.kernel.invokeFunction('convertToInteractive',\n",
              "                                                     [key], {});\n",
              "          if (!dataTable) return;\n",
              "\n",
              "          const docLinkHtml = 'Like what you see? Visit the ' +\n",
              "            '<a target=\"_blank\" href=https://colab.research.google.com/notebooks/data_table.ipynb>data table notebook</a>'\n",
              "            + ' to learn more about interactive tables.';\n",
              "          element.innerHTML = '';\n",
              "          dataTable['output_type'] = 'display_data';\n",
              "          await google.colab.output.renderOutput(dataTable, element);\n",
              "          const docLink = document.createElement('div');\n",
              "          docLink.innerHTML = docLinkHtml;\n",
              "          element.appendChild(docLink);\n",
              "        }\n",
              "      </script>\n",
              "    </div>\n",
              "  </div>\n",
              "  "
            ]
          },
          "metadata": {},
          "execution_count": 3
        }
      ]
    },
    {
      "cell_type": "code",
      "source": [
        "print(f'Columns before dropping {malmem.shape[1]}')\n",
        "malmem.drop(['pslist.nprocs64bit', 'handles.nport',\n",
        "             'svcscan.interactive_process_services', 'Category'],\n",
        "            axis=1, inplace=True)\n",
        "print(f'Columns after dropping {malmem.shape[1]}')"
      ],
      "metadata": {
        "colab": {
          "base_uri": "https://localhost:8080/"
        },
        "id": "qr-U820_oPF9",
        "outputId": "d6c5a0fc-53d1-433e-8672-4984beb5f9da"
      },
      "execution_count": 4,
      "outputs": [
        {
          "output_type": "stream",
          "name": "stdout",
          "text": [
            "Columns before dropping 57\n",
            "Columns after dropping 53\n"
          ]
        }
      ]
    },
    {
      "cell_type": "markdown",
      "source": [
        "# Data Splitting"
      ],
      "metadata": {
        "id": "IscSC4eqoBlC"
      }
    },
    {
      "cell_type": "code",
      "source": [
        "entries = malmem.shape[0]\n",
        "entries"
      ],
      "metadata": {
        "colab": {
          "base_uri": "https://localhost:8080/"
        },
        "id": "PI-ppJCZoxIP",
        "outputId": "748a9b3e-5d66-47a7-e9ae-6f2f0fda5e04"
      },
      "execution_count": 5,
      "outputs": [
        {
          "output_type": "execute_result",
          "data": {
            "text/plain": [
              "58596"
            ]
          },
          "metadata": {},
          "execution_count": 5
        }
      ]
    },
    {
      "cell_type": "code",
      "source": [
        "X = malmem.drop(['Class'], axis=1)\n",
        "y = malmem['Class']\n",
        "\n",
        "X.shape, y.shape"
      ],
      "metadata": {
        "colab": {
          "base_uri": "https://localhost:8080/"
        },
        "id": "VRcttPGlotD3",
        "outputId": "f0802595-0764-405d-f958-67907a7054bf"
      },
      "execution_count": 40,
      "outputs": [
        {
          "output_type": "execute_result",
          "data": {
            "text/plain": [
              "((58596, 52), (58596,))"
            ]
          },
          "metadata": {},
          "execution_count": 40
        }
      ]
    },
    {
      "cell_type": "code",
      "source": [
        "from sklearn.model_selection import train_test_split\n",
        "\n",
        "x, X_test, y, y_test = train_test_split(X, y, test_size=.15, random_state=42)\n",
        "X_train, X_valid, y_train, y_valid = train_test_split(x, y, test_size=.178, random_state=42)"
      ],
      "metadata": {
        "id": "H_flXN1pn9UA"
      },
      "execution_count": 41,
      "outputs": []
    },
    {
      "cell_type": "code",
      "source": [
        "X_train.shape[0], X_valid.shape[0], X_test.shape[0]"
      ],
      "metadata": {
        "colab": {
          "base_uri": "https://localhost:8080/"
        },
        "id": "tYEJJBqDqbUK",
        "outputId": "deb277ab-c27e-45b5-b069-d764038cc8f8"
      },
      "execution_count": 42,
      "outputs": [
        {
          "output_type": "execute_result",
          "data": {
            "text/plain": [
              "(40940, 8866, 8790)"
            ]
          },
          "metadata": {},
          "execution_count": 42
        }
      ]
    },
    {
      "cell_type": "code",
      "source": [
        "print(f'Train dataset contains {X_train.shape[0]/entries:.2f} of whole dataset')\n",
        "print(f'Validation dataset contains {X_valid.shape[0]/entries:.2f} of whole dataset')\n",
        "print(f'Test dataset contains {X_test.shape[0]/entries:.2f} of whole dataset')"
      ],
      "metadata": {
        "colab": {
          "base_uri": "https://localhost:8080/"
        },
        "id": "ju90dcgbqimS",
        "outputId": "91c51ca6-30c1-46fd-a3d6-2ed7447fe78f"
      },
      "execution_count": 43,
      "outputs": [
        {
          "output_type": "stream",
          "name": "stdout",
          "text": [
            "Train dataset contains 0.70 of whole dataset\n",
            "Validation dataset contains 0.15 of whole dataset\n",
            "Test dataset contains 0.15 of whole dataset\n"
          ]
        }
      ]
    },
    {
      "cell_type": "code",
      "source": [
        "cols = X.columns"
      ],
      "metadata": {
        "id": "MQR89GZwvps8"
      },
      "execution_count": 55,
      "outputs": []
    },
    {
      "cell_type": "markdown",
      "source": [
        "# Class encoding"
      ],
      "metadata": {
        "id": "IHbytIHTsHiZ"
      }
    },
    {
      "cell_type": "code",
      "source": [
        "y_train[:5]"
      ],
      "metadata": {
        "colab": {
          "base_uri": "https://localhost:8080/"
        },
        "id": "LgRMSJA-spPV",
        "outputId": "ad4808a8-f608-4376-ac64-9ad5c3211d3e"
      },
      "execution_count": 46,
      "outputs": [
        {
          "output_type": "execute_result",
          "data": {
            "text/plain": [
              "38718    Malware\n",
              "58002    Malware\n",
              "2736      Benign\n",
              "45808    Malware\n",
              "15506     Benign\n",
              "Name: Class, dtype: object"
            ]
          },
          "metadata": {},
          "execution_count": 46
        }
      ]
    },
    {
      "cell_type": "code",
      "source": [
        "from sklearn.preprocessing import LabelEncoder\n",
        "\n",
        "le = LabelEncoder()\n",
        "y_train = le.fit_transform(y_train)\n",
        "y_valid = le.transform(y_valid)\n",
        "y_test = le.transform(y_test)"
      ],
      "metadata": {
        "id": "6BPIZ0_Asd4j"
      },
      "execution_count": 47,
      "outputs": []
    },
    {
      "cell_type": "code",
      "source": [
        "le.classes_"
      ],
      "metadata": {
        "colab": {
          "base_uri": "https://localhost:8080/"
        },
        "id": "d37_4vSxtCvn",
        "outputId": "a86b0a73-80d4-402c-d2d3-c759eb34b6bf"
      },
      "execution_count": 48,
      "outputs": [
        {
          "output_type": "execute_result",
          "data": {
            "text/plain": [
              "array(['Benign', 'Malware'], dtype=object)"
            ]
          },
          "metadata": {},
          "execution_count": 48
        }
      ]
    },
    {
      "cell_type": "code",
      "source": [
        "y_train[:5]"
      ],
      "metadata": {
        "colab": {
          "base_uri": "https://localhost:8080/"
        },
        "id": "0s6auX7otVX0",
        "outputId": "17a939e0-df75-4a04-d75c-3a95414f9a16"
      },
      "execution_count": 49,
      "outputs": [
        {
          "output_type": "execute_result",
          "data": {
            "text/plain": [
              "array([1, 1, 0, 1, 0])"
            ]
          },
          "metadata": {},
          "execution_count": 49
        }
      ]
    },
    {
      "cell_type": "markdown",
      "source": [
        "# Data standartization"
      ],
      "metadata": {
        "id": "tTj_Fv3SsEGg"
      }
    },
    {
      "cell_type": "code",
      "source": [
        "from sklearn.preprocessing import RobustScaler\n",
        "\n",
        "rs = RobustScaler()\n",
        "\n",
        "X_train = rs.fit_transform(X_train)\n",
        "X_valid = rs.transform(X_valid)\n",
        "X_test = rs.transform(X_test)"
      ],
      "metadata": {
        "id": "u9Mmk5b7q7rB"
      },
      "execution_count": 50,
      "outputs": []
    },
    {
      "cell_type": "markdown",
      "source": [
        "# Combining prepared data back to dataframes"
      ],
      "metadata": {
        "id": "6j3za7-Ru4qx"
      }
    },
    {
      "cell_type": "code",
      "source": [
        "train_dataset = pd.DataFrame(X_train, columns=cols)\n",
        "train_dataset['Class'] = y_train\n",
        "\n",
        "valid_dataset = pd.DataFrame(X_valid, columns=cols)\n",
        "valid_dataset['Class'] = y_valid\n",
        "\n",
        "test_dataset = pd.DataFrame(X_test, columns=cols)\n",
        "test_dataset['Class'] = y_test"
      ],
      "metadata": {
        "id": "xgQ2tABrvDWN"
      },
      "execution_count": 61,
      "outputs": []
    },
    {
      "cell_type": "markdown",
      "source": [
        "# Saving prepared data"
      ],
      "metadata": {
        "id": "wMF2ZK6Owwhl"
      }
    },
    {
      "cell_type": "code",
      "source": [
        "train_dataset.to_csv(path+'train_dataset.csv', index=False)\n",
        "valid_dataset.to_csv(path+'valid_dataset.csv', index=False)\n",
        "test_dataset.to_csv(path+'test_dataset.csv', index=False)"
      ],
      "metadata": {
        "id": "mqh9PrrIvx50"
      },
      "execution_count": 63,
      "outputs": []
    },
    {
      "cell_type": "code",
      "source": [
        "train_dataset.shape, valid_dataset.shape, test_dataset.shape"
      ],
      "metadata": {
        "colab": {
          "base_uri": "https://localhost:8080/"
        },
        "id": "MrvBrp0UxVNe",
        "outputId": "fb3d7fc8-114e-4731-fa3d-828818e7b1fb"
      },
      "execution_count": 66,
      "outputs": [
        {
          "output_type": "execute_result",
          "data": {
            "text/plain": [
              "((40940, 53), (8866, 53), (8790, 53))"
            ]
          },
          "metadata": {},
          "execution_count": 66
        }
      ]
    },
    {
      "cell_type": "code",
      "source": [],
      "metadata": {
        "id": "Wx8JR9Ybx0ee"
      },
      "execution_count": null,
      "outputs": []
    }
  ]
}