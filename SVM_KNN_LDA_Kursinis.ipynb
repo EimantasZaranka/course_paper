{
  "nbformat": 4,
  "nbformat_minor": 0,
  "metadata": {
    "colab": {
      "provenance": [],
      "collapsed_sections": []
    },
    "kernelspec": {
      "name": "python3",
      "display_name": "Python 3"
    },
    "language_info": {
      "name": "python"
    }
  },
  "cells": [
    {
      "cell_type": "code",
      "source": [
        "!pip install optuna"
      ],
      "metadata": {
        "colab": {
          "base_uri": "https://localhost:8080/"
        },
        "id": "dMW4sMeUvh6S",
        "outputId": "9357012f-71a4-4b8e-fc53-42684aca0844"
      },
      "execution_count": 15,
      "outputs": [
        {
          "output_type": "stream",
          "name": "stdout",
          "text": [
            "Looking in indexes: https://pypi.org/simple, https://us-python.pkg.dev/colab-wheels/public/simple/\n",
            "Collecting optuna\n",
            "  Downloading optuna-3.0.3-py3-none-any.whl (348 kB)\n",
            "\u001b[K     |████████████████████████████████| 348 kB 5.0 MB/s \n",
            "\u001b[?25hRequirement already satisfied: importlib-metadata<5.0.0 in /usr/local/lib/python3.7/dist-packages (from optuna) (4.13.0)\n",
            "Requirement already satisfied: packaging>=20.0 in /usr/local/lib/python3.7/dist-packages (from optuna) (21.3)\n",
            "Collecting cliff\n",
            "  Downloading cliff-3.10.1-py3-none-any.whl (81 kB)\n",
            "\u001b[K     |████████████████████████████████| 81 kB 10.2 MB/s \n",
            "\u001b[?25hCollecting cmaes>=0.8.2\n",
            "  Downloading cmaes-0.8.2-py3-none-any.whl (15 kB)\n",
            "Requirement already satisfied: numpy in /usr/local/lib/python3.7/dist-packages (from optuna) (1.21.6)\n",
            "Collecting alembic>=1.5.0\n",
            "  Downloading alembic-1.8.1-py3-none-any.whl (209 kB)\n",
            "\u001b[K     |████████████████████████████████| 209 kB 47.6 MB/s \n",
            "\u001b[?25hRequirement already satisfied: sqlalchemy>=1.3.0 in /usr/local/lib/python3.7/dist-packages (from optuna) (1.4.42)\n",
            "Requirement already satisfied: tqdm in /usr/local/lib/python3.7/dist-packages (from optuna) (4.64.1)\n",
            "Requirement already satisfied: PyYAML in /usr/local/lib/python3.7/dist-packages (from optuna) (6.0)\n",
            "Collecting colorlog\n",
            "  Downloading colorlog-6.7.0-py2.py3-none-any.whl (11 kB)\n",
            "Requirement already satisfied: scipy<1.9.0,>=1.7.0 in /usr/local/lib/python3.7/dist-packages (from optuna) (1.7.3)\n",
            "Requirement already satisfied: importlib-resources in /usr/local/lib/python3.7/dist-packages (from alembic>=1.5.0->optuna) (5.10.0)\n",
            "Collecting Mako\n",
            "  Downloading Mako-1.2.3-py3-none-any.whl (78 kB)\n",
            "\u001b[K     |████████████████████████████████| 78 kB 7.6 MB/s \n",
            "\u001b[?25hRequirement already satisfied: typing-extensions>=3.6.4 in /usr/local/lib/python3.7/dist-packages (from importlib-metadata<5.0.0->optuna) (4.1.1)\n",
            "Requirement already satisfied: zipp>=0.5 in /usr/local/lib/python3.7/dist-packages (from importlib-metadata<5.0.0->optuna) (3.10.0)\n",
            "Requirement already satisfied: pyparsing!=3.0.5,>=2.0.2 in /usr/local/lib/python3.7/dist-packages (from packaging>=20.0->optuna) (3.0.9)\n",
            "Requirement already satisfied: greenlet!=0.4.17 in /usr/local/lib/python3.7/dist-packages (from sqlalchemy>=1.3.0->optuna) (1.1.3.post0)\n",
            "Collecting stevedore>=2.0.1\n",
            "  Downloading stevedore-3.5.2-py3-none-any.whl (50 kB)\n",
            "\u001b[K     |████████████████████████████████| 50 kB 5.5 MB/s \n",
            "\u001b[?25hCollecting cmd2>=1.0.0\n",
            "  Downloading cmd2-2.4.2-py3-none-any.whl (147 kB)\n",
            "\u001b[K     |████████████████████████████████| 147 kB 41.6 MB/s \n",
            "\u001b[?25hCollecting pbr!=2.1.0,>=2.0.0\n",
            "  Downloading pbr-5.11.0-py2.py3-none-any.whl (112 kB)\n",
            "\u001b[K     |████████████████████████████████| 112 kB 51.8 MB/s \n",
            "\u001b[?25hRequirement already satisfied: PrettyTable>=0.7.2 in /usr/local/lib/python3.7/dist-packages (from cliff->optuna) (3.4.1)\n",
            "Collecting autopage>=0.4.0\n",
            "  Downloading autopage-0.5.1-py3-none-any.whl (29 kB)\n",
            "Collecting pyperclip>=1.6\n",
            "  Downloading pyperclip-1.8.2.tar.gz (20 kB)\n",
            "Requirement already satisfied: attrs>=16.3.0 in /usr/local/lib/python3.7/dist-packages (from cmd2>=1.0.0->cliff->optuna) (22.1.0)\n",
            "Requirement already satisfied: wcwidth>=0.1.7 in /usr/local/lib/python3.7/dist-packages (from cmd2>=1.0.0->cliff->optuna) (0.2.5)\n",
            "Requirement already satisfied: MarkupSafe>=0.9.2 in /usr/local/lib/python3.7/dist-packages (from Mako->alembic>=1.5.0->optuna) (2.0.1)\n",
            "Building wheels for collected packages: pyperclip\n",
            "  Building wheel for pyperclip (setup.py) ... \u001b[?25l\u001b[?25hdone\n",
            "  Created wheel for pyperclip: filename=pyperclip-1.8.2-py3-none-any.whl size=11137 sha256=4346ff32948d0bf9d30f0fb38f6f7d8a45e5e3c4726b77522993bb0afb5371f6\n",
            "  Stored in directory: /root/.cache/pip/wheels/9f/18/84/8f69f8b08169c7bae2dde6bd7daf0c19fca8c8e500ee620a28\n",
            "Successfully built pyperclip\n",
            "Installing collected packages: pyperclip, pbr, stevedore, Mako, cmd2, autopage, colorlog, cmaes, cliff, alembic, optuna\n",
            "Successfully installed Mako-1.2.3 alembic-1.8.1 autopage-0.5.1 cliff-3.10.1 cmaes-0.8.2 cmd2-2.4.2 colorlog-6.7.0 optuna-3.0.3 pbr-5.11.0 pyperclip-1.8.2 stevedore-3.5.2\n"
          ]
        }
      ]
    },
    {
      "cell_type": "code",
      "execution_count": 1,
      "metadata": {
        "colab": {
          "base_uri": "https://localhost:8080/"
        },
        "id": "Gbm8VAfqpPDe",
        "outputId": "e0040274-93b6-45e9-fcc6-bbdce7603672"
      },
      "outputs": [
        {
          "output_type": "stream",
          "name": "stdout",
          "text": [
            "Mounted at /content/drive\n"
          ]
        }
      ],
      "source": [
        "from google.colab import drive\n",
        "drive.mount('/content/drive')"
      ]
    },
    {
      "cell_type": "code",
      "source": [
        "import pandas as pd\n",
        "import pickle\n",
        "import optuna as op"
      ],
      "metadata": {
        "id": "VlRMMu2wptUP"
      },
      "execution_count": 18,
      "outputs": []
    },
    {
      "cell_type": "code",
      "source": [
        "path = '/content/drive/MyDrive/Univerui/Kursinis/'"
      ],
      "metadata": {
        "id": "PycclcDxqFoo"
      },
      "execution_count": 3,
      "outputs": []
    },
    {
      "cell_type": "markdown",
      "source": [
        "# Loading Data"
      ],
      "metadata": {
        "id": "y13R3FXUp9eX"
      }
    },
    {
      "cell_type": "code",
      "source": [
        "train_data = pd.read_csv(path+'train_dataset.csv')\n",
        "valid_data = pd.read_csv(path+'valid_dataset.csv')\n",
        "test_data = pd.read_csv(path+'test_dataset.csv')\n",
        "\n",
        "train_data.head()"
      ],
      "metadata": {
        "colab": {
          "base_uri": "https://localhost:8080/",
          "height": 300
        },
        "id": "D00x8ccap8cB",
        "outputId": "38edcef2-69bf-4106-a50a-87849c95b5cf"
      },
      "execution_count": 4,
      "outputs": [
        {
          "output_type": "execute_result",
          "data": {
            "text/plain": [
              "   pslist.nproc  pslist.nppid  pslist.avg_threads  pslist.avg_handlers  \\\n",
              "0     -1.000000          0.00           -0.489278            -0.525639   \n",
              "1     -1.333333          0.00           -0.409560            -0.859858   \n",
              "2      1.000000         -0.75            0.491920             0.519117   \n",
              "3      1.666667          0.75           -0.157661            -0.547790   \n",
              "4      3.000000          0.50            0.277606             0.330270   \n",
              "\n",
              "   dlllist.ndlls  dlllist.avg_dlls_per_proc  handles.nhandles  \\\n",
              "0      -0.572505                  -0.480974         -0.447922   \n",
              "1      -0.838041                  -0.740434         -0.765124   \n",
              "2       0.783427                   0.563137          0.853235   \n",
              "3      -0.062147                  -0.542530         -0.057075   \n",
              "4       1.250471                   0.393810          1.172804   \n",
              "\n",
              "   handles.avg_handles_per_proc  handles.nfile  handles.nevent  ...  \\\n",
              "0                     -0.563055      -0.451613       -0.348355  ...   \n",
              "1                     -0.835619      -0.559908       -0.767525  ...   \n",
              "2                      0.475160       0.670507        1.094421  ...   \n",
              "3                     -0.542748      -0.375576        0.030043  ...   \n",
              "4                      0.287495       0.937788        1.159514  ...   \n",
              "\n",
              "   svcscan.nservices  svcscan.kernel_drivers  svcscan.fs_drivers  \\\n",
              "0          -0.500000                     0.0                 0.0   \n",
              "1          -1.166667                    -1.0                 0.0   \n",
              "2           0.500000                     1.0                 0.0   \n",
              "3          -0.500000                     0.0                 0.0   \n",
              "4           0.000000                     1.0                 0.0   \n",
              "\n",
              "   svcscan.process_services  svcscan.shared_process_services  svcscan.nactive  \\\n",
              "0                  0.000000                             -0.5             -1.5   \n",
              "1                 -0.333333                             -1.5             -4.0   \n",
              "2                  1.000000                              0.5              1.5   \n",
              "3                  0.000000                             -0.5              0.5   \n",
              "4                  0.000000                              0.5              2.0   \n",
              "\n",
              "   callbacks.ncallbacks  callbacks.nanonymous  callbacks.ngeneric  Class  \n",
              "0                   1.0                   0.0                 0.0      1  \n",
              "1                   1.0                   0.0                 0.0      1  \n",
              "2                   1.0                   0.0                 0.0      0  \n",
              "3                 -32.0                   0.0                 0.0      1  \n",
              "4                   0.0                   0.0                 0.0      0  \n",
              "\n",
              "[5 rows x 53 columns]"
            ],
            "text/html": [
              "\n",
              "  <div id=\"df-63fd0ac6-6b1b-4f2d-94d4-133fa88fc4d2\">\n",
              "    <div class=\"colab-df-container\">\n",
              "      <div>\n",
              "<style scoped>\n",
              "    .dataframe tbody tr th:only-of-type {\n",
              "        vertical-align: middle;\n",
              "    }\n",
              "\n",
              "    .dataframe tbody tr th {\n",
              "        vertical-align: top;\n",
              "    }\n",
              "\n",
              "    .dataframe thead th {\n",
              "        text-align: right;\n",
              "    }\n",
              "</style>\n",
              "<table border=\"1\" class=\"dataframe\">\n",
              "  <thead>\n",
              "    <tr style=\"text-align: right;\">\n",
              "      <th></th>\n",
              "      <th>pslist.nproc</th>\n",
              "      <th>pslist.nppid</th>\n",
              "      <th>pslist.avg_threads</th>\n",
              "      <th>pslist.avg_handlers</th>\n",
              "      <th>dlllist.ndlls</th>\n",
              "      <th>dlllist.avg_dlls_per_proc</th>\n",
              "      <th>handles.nhandles</th>\n",
              "      <th>handles.avg_handles_per_proc</th>\n",
              "      <th>handles.nfile</th>\n",
              "      <th>handles.nevent</th>\n",
              "      <th>...</th>\n",
              "      <th>svcscan.nservices</th>\n",
              "      <th>svcscan.kernel_drivers</th>\n",
              "      <th>svcscan.fs_drivers</th>\n",
              "      <th>svcscan.process_services</th>\n",
              "      <th>svcscan.shared_process_services</th>\n",
              "      <th>svcscan.nactive</th>\n",
              "      <th>callbacks.ncallbacks</th>\n",
              "      <th>callbacks.nanonymous</th>\n",
              "      <th>callbacks.ngeneric</th>\n",
              "      <th>Class</th>\n",
              "    </tr>\n",
              "  </thead>\n",
              "  <tbody>\n",
              "    <tr>\n",
              "      <th>0</th>\n",
              "      <td>-1.000000</td>\n",
              "      <td>0.00</td>\n",
              "      <td>-0.489278</td>\n",
              "      <td>-0.525639</td>\n",
              "      <td>-0.572505</td>\n",
              "      <td>-0.480974</td>\n",
              "      <td>-0.447922</td>\n",
              "      <td>-0.563055</td>\n",
              "      <td>-0.451613</td>\n",
              "      <td>-0.348355</td>\n",
              "      <td>...</td>\n",
              "      <td>-0.500000</td>\n",
              "      <td>0.0</td>\n",
              "      <td>0.0</td>\n",
              "      <td>0.000000</td>\n",
              "      <td>-0.5</td>\n",
              "      <td>-1.5</td>\n",
              "      <td>1.0</td>\n",
              "      <td>0.0</td>\n",
              "      <td>0.0</td>\n",
              "      <td>1</td>\n",
              "    </tr>\n",
              "    <tr>\n",
              "      <th>1</th>\n",
              "      <td>-1.333333</td>\n",
              "      <td>0.00</td>\n",
              "      <td>-0.409560</td>\n",
              "      <td>-0.859858</td>\n",
              "      <td>-0.838041</td>\n",
              "      <td>-0.740434</td>\n",
              "      <td>-0.765124</td>\n",
              "      <td>-0.835619</td>\n",
              "      <td>-0.559908</td>\n",
              "      <td>-0.767525</td>\n",
              "      <td>...</td>\n",
              "      <td>-1.166667</td>\n",
              "      <td>-1.0</td>\n",
              "      <td>0.0</td>\n",
              "      <td>-0.333333</td>\n",
              "      <td>-1.5</td>\n",
              "      <td>-4.0</td>\n",
              "      <td>1.0</td>\n",
              "      <td>0.0</td>\n",
              "      <td>0.0</td>\n",
              "      <td>1</td>\n",
              "    </tr>\n",
              "    <tr>\n",
              "      <th>2</th>\n",
              "      <td>1.000000</td>\n",
              "      <td>-0.75</td>\n",
              "      <td>0.491920</td>\n",
              "      <td>0.519117</td>\n",
              "      <td>0.783427</td>\n",
              "      <td>0.563137</td>\n",
              "      <td>0.853235</td>\n",
              "      <td>0.475160</td>\n",
              "      <td>0.670507</td>\n",
              "      <td>1.094421</td>\n",
              "      <td>...</td>\n",
              "      <td>0.500000</td>\n",
              "      <td>1.0</td>\n",
              "      <td>0.0</td>\n",
              "      <td>1.000000</td>\n",
              "      <td>0.5</td>\n",
              "      <td>1.5</td>\n",
              "      <td>1.0</td>\n",
              "      <td>0.0</td>\n",
              "      <td>0.0</td>\n",
              "      <td>0</td>\n",
              "    </tr>\n",
              "    <tr>\n",
              "      <th>3</th>\n",
              "      <td>1.666667</td>\n",
              "      <td>0.75</td>\n",
              "      <td>-0.157661</td>\n",
              "      <td>-0.547790</td>\n",
              "      <td>-0.062147</td>\n",
              "      <td>-0.542530</td>\n",
              "      <td>-0.057075</td>\n",
              "      <td>-0.542748</td>\n",
              "      <td>-0.375576</td>\n",
              "      <td>0.030043</td>\n",
              "      <td>...</td>\n",
              "      <td>-0.500000</td>\n",
              "      <td>0.0</td>\n",
              "      <td>0.0</td>\n",
              "      <td>0.000000</td>\n",
              "      <td>-0.5</td>\n",
              "      <td>0.5</td>\n",
              "      <td>-32.0</td>\n",
              "      <td>0.0</td>\n",
              "      <td>0.0</td>\n",
              "      <td>1</td>\n",
              "    </tr>\n",
              "    <tr>\n",
              "      <th>4</th>\n",
              "      <td>3.000000</td>\n",
              "      <td>0.50</td>\n",
              "      <td>0.277606</td>\n",
              "      <td>0.330270</td>\n",
              "      <td>1.250471</td>\n",
              "      <td>0.393810</td>\n",
              "      <td>1.172804</td>\n",
              "      <td>0.287495</td>\n",
              "      <td>0.937788</td>\n",
              "      <td>1.159514</td>\n",
              "      <td>...</td>\n",
              "      <td>0.000000</td>\n",
              "      <td>1.0</td>\n",
              "      <td>0.0</td>\n",
              "      <td>0.000000</td>\n",
              "      <td>0.5</td>\n",
              "      <td>2.0</td>\n",
              "      <td>0.0</td>\n",
              "      <td>0.0</td>\n",
              "      <td>0.0</td>\n",
              "      <td>0</td>\n",
              "    </tr>\n",
              "  </tbody>\n",
              "</table>\n",
              "<p>5 rows × 53 columns</p>\n",
              "</div>\n",
              "      <button class=\"colab-df-convert\" onclick=\"convertToInteractive('df-63fd0ac6-6b1b-4f2d-94d4-133fa88fc4d2')\"\n",
              "              title=\"Convert this dataframe to an interactive table.\"\n",
              "              style=\"display:none;\">\n",
              "        \n",
              "  <svg xmlns=\"http://www.w3.org/2000/svg\" height=\"24px\"viewBox=\"0 0 24 24\"\n",
              "       width=\"24px\">\n",
              "    <path d=\"M0 0h24v24H0V0z\" fill=\"none\"/>\n",
              "    <path d=\"M18.56 5.44l.94 2.06.94-2.06 2.06-.94-2.06-.94-.94-2.06-.94 2.06-2.06.94zm-11 1L8.5 8.5l.94-2.06 2.06-.94-2.06-.94L8.5 2.5l-.94 2.06-2.06.94zm10 10l.94 2.06.94-2.06 2.06-.94-2.06-.94-.94-2.06-.94 2.06-2.06.94z\"/><path d=\"M17.41 7.96l-1.37-1.37c-.4-.4-.92-.59-1.43-.59-.52 0-1.04.2-1.43.59L10.3 9.45l-7.72 7.72c-.78.78-.78 2.05 0 2.83L4 21.41c.39.39.9.59 1.41.59.51 0 1.02-.2 1.41-.59l7.78-7.78 2.81-2.81c.8-.78.8-2.07 0-2.86zM5.41 20L4 18.59l7.72-7.72 1.47 1.35L5.41 20z\"/>\n",
              "  </svg>\n",
              "      </button>\n",
              "      \n",
              "  <style>\n",
              "    .colab-df-container {\n",
              "      display:flex;\n",
              "      flex-wrap:wrap;\n",
              "      gap: 12px;\n",
              "    }\n",
              "\n",
              "    .colab-df-convert {\n",
              "      background-color: #E8F0FE;\n",
              "      border: none;\n",
              "      border-radius: 50%;\n",
              "      cursor: pointer;\n",
              "      display: none;\n",
              "      fill: #1967D2;\n",
              "      height: 32px;\n",
              "      padding: 0 0 0 0;\n",
              "      width: 32px;\n",
              "    }\n",
              "\n",
              "    .colab-df-convert:hover {\n",
              "      background-color: #E2EBFA;\n",
              "      box-shadow: 0px 1px 2px rgba(60, 64, 67, 0.3), 0px 1px 3px 1px rgba(60, 64, 67, 0.15);\n",
              "      fill: #174EA6;\n",
              "    }\n",
              "\n",
              "    [theme=dark] .colab-df-convert {\n",
              "      background-color: #3B4455;\n",
              "      fill: #D2E3FC;\n",
              "    }\n",
              "\n",
              "    [theme=dark] .colab-df-convert:hover {\n",
              "      background-color: #434B5C;\n",
              "      box-shadow: 0px 1px 3px 1px rgba(0, 0, 0, 0.15);\n",
              "      filter: drop-shadow(0px 1px 2px rgba(0, 0, 0, 0.3));\n",
              "      fill: #FFFFFF;\n",
              "    }\n",
              "  </style>\n",
              "\n",
              "      <script>\n",
              "        const buttonEl =\n",
              "          document.querySelector('#df-63fd0ac6-6b1b-4f2d-94d4-133fa88fc4d2 button.colab-df-convert');\n",
              "        buttonEl.style.display =\n",
              "          google.colab.kernel.accessAllowed ? 'block' : 'none';\n",
              "\n",
              "        async function convertToInteractive(key) {\n",
              "          const element = document.querySelector('#df-63fd0ac6-6b1b-4f2d-94d4-133fa88fc4d2');\n",
              "          const dataTable =\n",
              "            await google.colab.kernel.invokeFunction('convertToInteractive',\n",
              "                                                     [key], {});\n",
              "          if (!dataTable) return;\n",
              "\n",
              "          const docLinkHtml = 'Like what you see? Visit the ' +\n",
              "            '<a target=\"_blank\" href=https://colab.research.google.com/notebooks/data_table.ipynb>data table notebook</a>'\n",
              "            + ' to learn more about interactive tables.';\n",
              "          element.innerHTML = '';\n",
              "          dataTable['output_type'] = 'display_data';\n",
              "          await google.colab.output.renderOutput(dataTable, element);\n",
              "          const docLink = document.createElement('div');\n",
              "          docLink.innerHTML = docLinkHtml;\n",
              "          element.appendChild(docLink);\n",
              "        }\n",
              "      </script>\n",
              "    </div>\n",
              "  </div>\n",
              "  "
            ]
          },
          "metadata": {},
          "execution_count": 4
        }
      ]
    },
    {
      "cell_type": "code",
      "source": [
        "X_train = train_data.drop('Class', axis=1)\n",
        "y_train = train_data['Class']\n",
        "\n",
        "X_test = test_data.drop('Class', axis=1)\n",
        "y_test = test_data['Class']\n",
        "\n",
        "X_valid = valid_data.drop('Class', axis=1)\n",
        "y_valid = valid_data['Class']\n",
        "\n",
        "len(X_train), len(y_train), len(X_test), len(y_test), len(X_valid), len(y_valid)"
      ],
      "metadata": {
        "colab": {
          "base_uri": "https://localhost:8080/"
        },
        "id": "RuEcDFAzq5b1",
        "outputId": "2ffbb9f5-58b1-436a-8576-57e82bf01982"
      },
      "execution_count": 5,
      "outputs": [
        {
          "output_type": "execute_result",
          "data": {
            "text/plain": [
              "(40940, 40940, 8790, 8790, 8866, 8866)"
            ]
          },
          "metadata": {},
          "execution_count": 5
        }
      ]
    },
    {
      "cell_type": "markdown",
      "source": [
        "# Helper functions"
      ],
      "metadata": {
        "id": "GH-LQQ6MrzML"
      }
    },
    {
      "cell_type": "code",
      "source": [
        "from sklearn.metrics import accuracy_score, precision_recall_fscore_support\n",
        "def calculate_results(y_true, y_pred):\n",
        "  model_accuracy = accuracy_score(y_true, y_pred) * 100\n",
        "  \n",
        "  model_precision, model_recall, model_f1, _ = precision_recall_fscore_support(y_true, y_pred, average=\"weighted\")\n",
        "  model_results = {\"accuracy\": model_accuracy,\n",
        "                  \"precision\": model_precision,\n",
        "                  \"recall\": model_recall,\n",
        "                  \"f1\": model_f1}\n",
        "  return model_results"
      ],
      "metadata": {
        "id": "ZdDb5ZA5r1bK"
      },
      "execution_count": 6,
      "outputs": []
    },
    {
      "cell_type": "code",
      "source": [
        "from sklearn.metrics import confusion_matrix\n",
        "import matplotlib.pyplot as plt\n",
        "import seaborn as sns\n",
        "\n",
        "sns.light_palette(\"seagreen\", as_cmap=True)\n",
        "\n",
        "def plot_confusion_matrix(y_true, y_pred):\n",
        "  cm = confusion_matrix(y_true, y_pred)\n",
        "  labels = ['Benign', 'Malware']\n",
        "\n",
        "  plt.figure(1, figsize=(9,6))\n",
        "  axis = sns.heatmap(cm, annot=True, cbar=False, cmap='Greens', fmt='d')\n",
        "\n",
        "  axis.set_xticklabels(labels)\n",
        "  axis.set_yticklabels(labels)\n",
        "\n",
        "  axis.set(ylabel='Tikros reikšmės', xlabel='Prognozuotos reikšmės')\n",
        "\n",
        "  plt.show()\n"
      ],
      "metadata": {
        "id": "jNcA3bxTzUff"
      },
      "execution_count": 29,
      "outputs": []
    },
    {
      "cell_type": "markdown",
      "source": [
        "# Classification using Support Vectore Machine Classifier"
      ],
      "metadata": {
        "id": "DVPT4T7ArezX"
      }
    },
    {
      "cell_type": "markdown",
      "source": [
        "## Baseline model"
      ],
      "metadata": {
        "id": "hpjRfQqErkrK"
      }
    },
    {
      "cell_type": "code",
      "source": [
        "from sklearn.svm import SVC\n",
        "\n",
        "baseline_svc = SVC(random_state=42)\n",
        "\n",
        "baseline_svc.fit(X_train, y_train)\n",
        "\n",
        "y_pred = baseline_svc.predict(X_test)\n",
        "\n",
        "baseline_svc_results = calculate_results(y_test, y_pred)\n",
        "baseline_svc_results"
      ],
      "metadata": {
        "colab": {
          "base_uri": "https://localhost:8080/"
        },
        "id": "CEbLXTkkqZRs",
        "outputId": "28e04d0e-7ea9-47cf-a088-d4a0e504e684"
      },
      "execution_count": 7,
      "outputs": [
        {
          "output_type": "execute_result",
          "data": {
            "text/plain": [
              "{'accuracy': 54.12969283276451,\n",
              " 'precision': 0.7634846727994057,\n",
              " 'recall': 0.5412969283276451,\n",
              " 'f1': 0.4283059720195139}"
            ]
          },
          "metadata": {},
          "execution_count": 7
        }
      ]
    },
    {
      "cell_type": "markdown",
      "source": [
        "## Hyperparameter tuning with optuna"
      ],
      "metadata": {
        "id": "QUt7Ny2JshJG"
      }
    },
    {
      "cell_type": "code",
      "source": [
        "def objective_svc(trial):\n",
        "  kernel=trial.suggest_categorical('kernel',['rbf','poly','linear','sigmoid'])\n",
        "  c=trial.suggest_float(\"C\",0.1,3.0,log=True)\n",
        "  gamma=trial.suggest_categorical('gamma',['auto','scale'])\n",
        "  degree=trial.suggest_int(\"degree\",1,3,log=True)\n",
        "\n",
        "  model = SVC(kernel=kernel, degree=degree, gamma=gamma, C=c)\n",
        " \n",
        "  model.fit(X_train, y_train)\n",
        "\n",
        "  accuracy = model.score(X_test, y_test)\n",
        "  return accuracy"
      ],
      "metadata": {
        "id": "44pBhA-5sY5Y"
      },
      "execution_count": 19,
      "outputs": []
    },
    {
      "cell_type": "code",
      "source": [
        "study = op.create_study(direction='maximize')\n",
        "study.optimize(objective_svc, n_trials=25, n_jobs=1)"
      ],
      "metadata": {
        "colab": {
          "base_uri": "https://localhost:8080/"
        },
        "id": "Q4yvN-UDvbIh",
        "outputId": "255e9290-a026-4be7-d230-03f7e666333e"
      },
      "execution_count": 20,
      "outputs": [
        {
          "output_type": "stream",
          "name": "stderr",
          "text": [
            "\u001b[32m[I 2022-11-02 09:51:58,719]\u001b[0m A new study created in memory with name: no-name-0f2df6e0-b00c-4dcd-a6e8-6250efe8273a\u001b[0m\n",
            "\u001b[32m[I 2022-11-02 09:52:01,160]\u001b[0m Trial 0 finished with value: 0.9993174061433447 and parameters: {'kernel': 'linear', 'C': 0.8600820964240428, 'gamma': 'auto', 'degree': 3}. Best is trial 0 with value: 0.9993174061433447.\u001b[0m\n",
            "\u001b[32m[I 2022-11-02 09:55:23,249]\u001b[0m Trial 1 finished with value: 0.5359499431171786 and parameters: {'kernel': 'poly', 'C': 0.2133033986277771, 'gamma': 'scale', 'degree': 2}. Best is trial 0 with value: 0.9993174061433447.\u001b[0m\n",
            "\u001b[32m[I 2022-11-02 09:55:24,775]\u001b[0m Trial 2 finished with value: 0.9992036405005689 and parameters: {'kernel': 'linear', 'C': 0.5732917793485722, 'gamma': 'auto', 'degree': 1}. Best is trial 0 with value: 0.9993174061433447.\u001b[0m\n",
            "\u001b[32m[I 2022-11-02 09:57:38,153]\u001b[0m Trial 3 finished with value: 0.5544937428896474 and parameters: {'kernel': 'sigmoid', 'C': 0.4398965696385378, 'gamma': 'auto', 'degree': 3}. Best is trial 0 with value: 0.9993174061433447.\u001b[0m\n",
            "\u001b[32m[I 2022-11-02 10:02:37,347]\u001b[0m Trial 4 finished with value: 0.524004550625711 and parameters: {'kernel': 'sigmoid', 'C': 0.18313675546090213, 'gamma': 'scale', 'degree': 1}. Best is trial 0 with value: 0.9993174061433447.\u001b[0m\n",
            "\u001b[32m[I 2022-11-02 10:02:38,956]\u001b[0m Trial 5 finished with value: 0.9996587030716724 and parameters: {'kernel': 'linear', 'C': 1.5462993999069716, 'gamma': 'auto', 'degree': 1}. Best is trial 5 with value: 0.9996587030716724.\u001b[0m\n",
            "\u001b[32m[I 2022-11-02 10:04:35,670]\u001b[0m Trial 6 finished with value: 0.5539249146757679 and parameters: {'kernel': 'sigmoid', 'C': 2.7920735932252683, 'gamma': 'auto', 'degree': 1}. Best is trial 5 with value: 0.9996587030716724.\u001b[0m\n",
            "\u001b[32m[I 2022-11-02 10:09:29,050]\u001b[0m Trial 7 finished with value: 0.5059158134243459 and parameters: {'kernel': 'sigmoid', 'C': 1.190912023913438, 'gamma': 'scale', 'degree': 1}. Best is trial 5 with value: 0.9996587030716724.\u001b[0m\n",
            "\u001b[32m[I 2022-11-02 10:12:15,790]\u001b[0m Trial 8 finished with value: 0.5412969283276451 and parameters: {'kernel': 'poly', 'C': 2.2879827514303726, 'gamma': 'scale', 'degree': 1}. Best is trial 5 with value: 0.9996587030716724.\u001b[0m\n",
            "\u001b[32m[I 2022-11-02 10:15:06,790]\u001b[0m Trial 9 finished with value: 0.5359499431171786 and parameters: {'kernel': 'poly', 'C': 0.570094396102372, 'gamma': 'scale', 'degree': 3}. Best is trial 5 with value: 0.9996587030716724.\u001b[0m\n",
            "\u001b[32m[I 2022-11-02 10:15:11,860]\u001b[0m Trial 10 finished with value: 0.9998862343572241 and parameters: {'kernel': 'rbf', 'C': 1.4293112431360397, 'gamma': 'auto', 'degree': 2}. Best is trial 10 with value: 0.9998862343572241.\u001b[0m\n",
            "\u001b[32m[I 2022-11-02 10:15:19,108]\u001b[0m Trial 11 finished with value: 0.9998862343572241 and parameters: {'kernel': 'rbf', 'C': 1.4774670986176228, 'gamma': 'auto', 'degree': 2}. Best is trial 10 with value: 0.9998862343572241.\u001b[0m\n",
            "\u001b[32m[I 2022-11-02 10:15:25,774]\u001b[0m Trial 12 finished with value: 1.0 and parameters: {'kernel': 'rbf', 'C': 1.6313957488592703, 'gamma': 'auto', 'degree': 2}. Best is trial 12 with value: 1.0.\u001b[0m\n",
            "\u001b[32m[I 2022-11-02 10:15:32,406]\u001b[0m Trial 13 finished with value: 0.9997724687144482 and parameters: {'kernel': 'rbf', 'C': 0.9865096767639562, 'gamma': 'auto', 'degree': 2}. Best is trial 12 with value: 1.0.\u001b[0m\n",
            "\u001b[32m[I 2022-11-02 10:15:39,554]\u001b[0m Trial 14 finished with value: 1.0 and parameters: {'kernel': 'rbf', 'C': 1.8356624790228842, 'gamma': 'auto', 'degree': 2}. Best is trial 12 with value: 1.0.\u001b[0m\n",
            "\u001b[32m[I 2022-11-02 10:15:45,493]\u001b[0m Trial 15 finished with value: 1.0 and parameters: {'kernel': 'rbf', 'C': 2.1249253302120015, 'gamma': 'auto', 'degree': 2}. Best is trial 12 with value: 1.0.\u001b[0m\n",
            "\u001b[32m[I 2022-11-02 10:15:51,870]\u001b[0m Trial 16 finished with value: 0.9992036405005689 and parameters: {'kernel': 'rbf', 'C': 0.3266552052579607, 'gamma': 'auto', 'degree': 2}. Best is trial 12 with value: 1.0.\u001b[0m\n",
            "\u001b[32m[I 2022-11-02 10:15:58,672]\u001b[0m Trial 17 finished with value: 0.9997724687144482 and parameters: {'kernel': 'rbf', 'C': 0.7814022723802136, 'gamma': 'auto', 'degree': 3}. Best is trial 12 with value: 1.0.\u001b[0m\n",
            "\u001b[32m[I 2022-11-02 10:16:08,906]\u001b[0m Trial 18 finished with value: 0.9984072810011376 and parameters: {'kernel': 'rbf', 'C': 0.11994788800306093, 'gamma': 'auto', 'degree': 2}. Best is trial 12 with value: 1.0.\u001b[0m\n",
            "\u001b[32m[I 2022-11-02 10:16:16,242]\u001b[0m Trial 19 finished with value: 1.0 and parameters: {'kernel': 'rbf', 'C': 2.0979762890318763, 'gamma': 'auto', 'degree': 3}. Best is trial 12 with value: 1.0.\u001b[0m\n",
            "\u001b[32m[I 2022-11-02 10:16:22,131]\u001b[0m Trial 20 finished with value: 1.0 and parameters: {'kernel': 'rbf', 'C': 2.988518553633926, 'gamma': 'auto', 'degree': 3}. Best is trial 12 with value: 1.0.\u001b[0m\n",
            "\u001b[32m[I 2022-11-02 10:16:26,869]\u001b[0m Trial 21 finished with value: 1.0 and parameters: {'kernel': 'rbf', 'C': 2.6978489556665766, 'gamma': 'auto', 'degree': 3}. Best is trial 12 with value: 1.0.\u001b[0m\n",
            "\u001b[32m[I 2022-11-02 10:16:31,823]\u001b[0m Trial 22 finished with value: 1.0 and parameters: {'kernel': 'rbf', 'C': 2.2711420404692855, 'gamma': 'auto', 'degree': 3}. Best is trial 12 with value: 1.0.\u001b[0m\n",
            "\u001b[32m[I 2022-11-02 10:16:36,776]\u001b[0m Trial 23 finished with value: 1.0 and parameters: {'kernel': 'rbf', 'C': 2.8274587456745994, 'gamma': 'auto', 'degree': 3}. Best is trial 12 with value: 1.0.\u001b[0m\n",
            "\u001b[32m[I 2022-11-02 10:16:41,690]\u001b[0m Trial 24 finished with value: 1.0 and parameters: {'kernel': 'rbf', 'C': 2.9656176244494685, 'gamma': 'auto', 'degree': 3}. Best is trial 12 with value: 1.0.\u001b[0m\n"
          ]
        }
      ]
    },
    {
      "cell_type": "code",
      "source": [
        "trial=study.best_trial\n",
        "print(\"Best Tuning Parameters : {} \\n with accuracy of : {:.2f} %\".format(trial.params,trial.value*100))"
      ],
      "metadata": {
        "colab": {
          "base_uri": "https://localhost:8080/"
        },
        "id": "4dploCqbwRvx",
        "outputId": "0b67b681-6f50-4c69-a29f-a92fce6bc5d3"
      },
      "execution_count": 22,
      "outputs": [
        {
          "output_type": "stream",
          "name": "stdout",
          "text": [
            "Best Tuning Parameters : {'kernel': 'rbf', 'C': 1.6313957488592703, 'gamma': 'auto', 'degree': 2} \n",
            " with accuracy of : 100.00 %\n"
          ]
        }
      ]
    },
    {
      "cell_type": "markdown",
      "source": [
        "## Training SVM classifier with best parameters"
      ],
      "metadata": {
        "id": "5HZyjbup4TCz"
      }
    },
    {
      "cell_type": "code",
      "source": [
        "svc_model = SVC(**trial.params)\n",
        "\n",
        "svc_model.fit(X_train, y_train)\n",
        "\n",
        "y_pred = svc_model.predict(X_test)\n",
        "\n",
        "svc_model_results = calculate_results(y_test, y_pred)\n",
        "svc_model_results"
      ],
      "metadata": {
        "colab": {
          "base_uri": "https://localhost:8080/"
        },
        "id": "gpc0gTdD4bKz",
        "outputId": "549784ec-7da7-4bc7-e1b6-7b04bed6b2fc"
      },
      "execution_count": 32,
      "outputs": [
        {
          "output_type": "execute_result",
          "data": {
            "text/plain": [
              "{'accuracy': 100.0, 'precision': 1.0, 'recall': 1.0, 'f1': 1.0}"
            ]
          },
          "metadata": {},
          "execution_count": 32
        }
      ]
    },
    {
      "cell_type": "code",
      "source": [
        "plot_confusion_matrix(y_test, y_pred)"
      ],
      "metadata": {
        "colab": {
          "base_uri": "https://localhost:8080/",
          "height": 389
        },
        "id": "FxHdG4T647sS",
        "outputId": "dddf057a-670a-4bd0-8cda-ed5635cd20e3"
      },
      "execution_count": 33,
      "outputs": [
        {
          "output_type": "display_data",
          "data": {
            "text/plain": [
              "<Figure size 648x432 with 1 Axes>"
            ],
            "image/png": "[encoded data removed]"
          },
          "metadata": {
            "needs_background": "light"
          }
        }
      ]
    },
    {
      "cell_type": "code",
      "source": [
        "pickle.dump(svc_model, open(path+'models/SVC_model.sav', 'wb'))"
      ],
      "metadata": {
        "id": "zZvwKKDD5CGX"
      },
      "execution_count": 34,
      "outputs": []
    },
    {
      "cell_type": "markdown",
      "source": [
        "# Classification using KNN"
      ],
      "metadata": {
        "id": "UfXreesxssA3"
      }
    },
    {
      "cell_type": "markdown",
      "source": [
        "## Baseline model"
      ],
      "metadata": {
        "id": "1nBqnkcEsvVA"
      }
    },
    {
      "cell_type": "code",
      "source": [
        "from sklearn.neighbors import KNeighborsClassifier\n",
        "\n",
        "baseline_knn = KNeighborsClassifier()\n",
        "\n",
        "baseline_knn.fit(X_train, y_train)\n",
        "\n",
        "y_pred = baseline_knn.predict(X_test)\n",
        "\n",
        "baseline_knn_results = calculate_results(y_test, y_pred)\n",
        "baseline_knn_results"
      ],
      "metadata": {
        "colab": {
          "base_uri": "https://localhost:8080/"
        },
        "id": "35WaB68DtR8z",
        "outputId": "261dde94-41e7-4731-f812-70267070d286"
      },
      "execution_count": 9,
      "outputs": [
        {
          "output_type": "execute_result",
          "data": {
            "text/plain": [
              "{'accuracy': 100.0, 'precision': 1.0, 'recall': 1.0, 'f1': 1.0}"
            ]
          },
          "metadata": {},
          "execution_count": 9
        }
      ]
    },
    {
      "cell_type": "code",
      "source": [
        "y_valid_pred = baseline_knn.predict(X_valid)\n",
        "calculate_results(y_valid, y_valid_pred)"
      ],
      "metadata": {
        "colab": {
          "base_uri": "https://localhost:8080/"
        },
        "id": "oMO2l80LtspV",
        "outputId": "3d4d0eab-7475-4ef5-df70-ef9adc0d9872"
      },
      "execution_count": 14,
      "outputs": [
        {
          "output_type": "execute_result",
          "data": {
            "text/plain": [
              "{'accuracy': 100.0, 'precision': 1.0, 'recall': 1.0, 'f1': 1.0}"
            ]
          },
          "metadata": {},
          "execution_count": 14
        }
      ]
    },
    {
      "cell_type": "code",
      "source": [
        "y_pred = baseline_knn.predict(X_test)\n",
        "plot_confusion_matrix(y_test, y_pred)"
      ],
      "metadata": {
        "colab": {
          "base_uri": "https://localhost:8080/",
          "height": 389
        },
        "id": "45EazXX92ijA",
        "outputId": "c4f25c46-7eef-4a88-cb64-5c4168ae92c8"
      },
      "execution_count": 30,
      "outputs": [
        {
          "output_type": "display_data",
          "data": {
            "text/plain": [
              "<Figure size 648x432 with 1 Axes>"
            ],
            "image/png": "[encoded data removed]"
          },
          "metadata": {
            "needs_background": "light"
          }
        }
      ]
    },
    {
      "cell_type": "code",
      "source": [
        "pickle.dump(baseline_knn, open(path+'models/KNN_model.sav', 'wb'))"
      ],
      "metadata": {
        "id": "6SQRLGWFvuW7"
      },
      "execution_count": 16,
      "outputs": []
    },
    {
      "cell_type": "markdown",
      "source": [
        "# Classification using LDA"
      ],
      "metadata": {
        "id": "9olJScXVs4Io"
      }
    },
    {
      "cell_type": "markdown",
      "source": [
        "## Baseline model"
      ],
      "metadata": {
        "id": "HCE-93EVtGNh"
      }
    },
    {
      "cell_type": "code",
      "source": [
        "from sklearn.discriminant_analysis import LinearDiscriminantAnalysis\n",
        "\n",
        "baseline_lda = LinearDiscriminantAnalysis()\n",
        "\n",
        "baseline_lda.fit(X_train, y_train)\n",
        "\n",
        "y_pred = baseline_lda.predict(X_test)\n",
        "\n",
        "baseline_lda_results = calculate_results(y_test, y_pred)\n",
        "baseline_lda_results"
      ],
      "metadata": {
        "colab": {
          "base_uri": "https://localhost:8080/"
        },
        "id": "5-DJaPektFjP",
        "outputId": "494b8c33-9818-493a-cf5f-05993f404738"
      },
      "execution_count": 11,
      "outputs": [
        {
          "output_type": "execute_result",
          "data": {
            "text/plain": [
              "{'accuracy': 99.59044368600682,\n",
              " 'precision': 0.9959044368600682,\n",
              " 'recall': 0.9959044368600682,\n",
              " 'f1': 0.9959044368600682}"
            ]
          },
          "metadata": {},
          "execution_count": 11
        }
      ]
    },
    {
      "cell_type": "code",
      "source": [
        "y_valid_pred = baseline_lda.predict(X_valid)\n",
        "calculate_results(y_valid, y_valid_pred)"
      ],
      "metadata": {
        "colab": {
          "base_uri": "https://localhost:8080/"
        },
        "id": "VIaB7mmsufKC",
        "outputId": "0fdde82c-5eb5-43b0-d573-2d3860ce1f41"
      },
      "execution_count": 13,
      "outputs": [
        {
          "output_type": "execute_result",
          "data": {
            "text/plain": [
              "{'accuracy': 99.63907060681254,\n",
              " 'precision': 0.9963923859744261,\n",
              " 'recall': 0.9963907060681254,\n",
              " 'f1': 0.9963907347221087}"
            ]
          },
          "metadata": {},
          "execution_count": 13
        }
      ]
    },
    {
      "cell_type": "code",
      "source": [
        "y_pred = baseline_lda.predict(X_test)\n",
        "plot_confusion_matrix(y_test, y_pred)"
      ],
      "metadata": {
        "colab": {
          "base_uri": "https://localhost:8080/",
          "height": 389
        },
        "id": "goUdsyTL4I8z",
        "outputId": "51cfc588-b63a-4ef3-a990-f541542bbe49"
      },
      "execution_count": 31,
      "outputs": [
        {
          "output_type": "display_data",
          "data": {
            "text/plain": [
              "<Figure size 648x432 with 1 Axes>"
            ],
            "image/png": "[encoded data removed]"
          },
          "metadata": {
            "needs_background": "light"
          }
        }
      ]
    },
    {
      "cell_type": "code",
      "source": [
        "pickle.dump(baseline_lda, open(path+'models/LDA_model.sav', 'wb'))"
      ],
      "metadata": {
        "id": "6Dt6kwlNv_Ao"
      },
      "execution_count": 17,
      "outputs": []
    }
  ]
}